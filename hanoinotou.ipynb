{
  "nbformat": 4,
  "nbformat_minor": 0,
  "metadata": {
    "colab": {
      "name": "Untitled1.ipynb",
      "provenance": [],
      "authorship_tag": "ABX9TyMzMsPhacVZdECA/O0TIU50",
      "include_colab_link": true
    },
    "kernelspec": {
      "name": "python3",
      "display_name": "Python 3"
    }
  },
  "cells": [
    {
      "cell_type": "markdown",
      "metadata": {
        "id": "view-in-github",
        "colab_type": "text"
      },
      "source": [
        "<a href=\"https://colab.research.google.com/github/Qulick-k/algoruthen_test/blob/master/hanoinotou.ipynb\" target=\"_parent\"><img src=\"https://colab.research.google.com/assets/colab-badge.svg\" alt=\"Open In Colab\"/></a>"
      ]
    },
    {
      "cell_type": "code",
      "metadata": {
        "id": "uMTsBE9OIRHI",
        "outputId": "ca4747c5-eb14-4fbf-d5a5-8ff7368dc93b",
        "colab": {
          "base_uri": "https://localhost:8080/"
        }
      },
      "source": [
        "def tower(n ,A, B, C): # n 等於輸入的整數。假設 n = 3 ，則河內塔必跑7次。\n",
        "  if n == 1:      # 剩最後一次的時候，一定是從A塔轉到C塔。\n",
        "   return [(A, C)]\n",
        "  else:         # 當 n 還沒等於 1 的時候\n",
        "   return hanoi(n-1, A, C, B) + hanoi(1, A, B, C) + hanoi(n-1, B, A, C)\n",
        "\n",
        "kazo = 0  #拿來算次數的變數容器而已\n",
        "number = input('please type an integer: ')\n",
        "for move in hanoi(int(number), 'A', 'B', 'C'):\n",
        " kazo = kazo + 1\n",
        " message = '盤由 {first} 移至 {second} '.format(first = move[0], second = move[1]) \n",
        " print(message,\"跑了\",kazo,\"次數\")\n",
        "\n",
        "#A|B|C 回想\n",
        "\n",
        "#1\n",
        "#2\n",
        "#3\n",
        "\n",
        "#2\n",
        "#3   1\n",
        "\n",
        "#3 2 1\n",
        "\n",
        "#  1\n",
        "#3 2\n",
        "\n",
        "#  1\n",
        "#  2 3\n",
        "\n",
        "#1 2 3\n",
        "\n",
        "#    2\n",
        "#1   3\n",
        "\n",
        "#    1\n",
        "#    2\n",
        "#    3 \n",
        "\n",
        "\n",
        "#N=4的搬運次數\n",
        "\n",
        "#1\n",
        "#2\n",
        "#3\n",
        "#4\n",
        "\n",
        "#2\n",
        "#3\n",
        "#4 1\n",
        "\n",
        "#3\n",
        "#4 1 2\n",
        "\n",
        "#3   1\n",
        "#4   2\n",
        "\n",
        "#   1\n",
        "#4 3 2\n",
        "\n",
        "#1\n",
        "#4 3 2\n",
        "\n",
        "#1 2\n",
        "#4 3\n",
        "\n",
        "#  1\n",
        "#  2\n",
        "#4 3\n",
        "\n",
        "#  1\n",
        "#  2\n",
        "#  3 4\n",
        "\n",
        "#  2 1\n",
        "#  3 4\n",
        "\n",
        "#    1\n",
        "#2 3 4\n",
        "\n",
        "#1\n",
        "#2 3 4\n",
        "\n",
        "#1   3\n",
        "#2   4\n",
        "\n",
        "#    3\n",
        "#2 1 4\n",
        "\n",
        "#    2\n",
        "#    3\n",
        "#  1 4\n",
        "\n",
        "#    1\n",
        "#    2\n",
        "#    3\n",
        "#    4"
      ],
      "execution_count": 12,
      "outputs": [
        {
          "output_type": "stream",
          "text": [
            "please type an integer: 3\n",
            "盤由 A 移至 C  跑了 1 次數\n",
            "盤由 A 移至 B  跑了 2 次數\n",
            "盤由 C 移至 B  跑了 3 次數\n",
            "盤由 A 移至 C  跑了 4 次數\n",
            "盤由 B 移至 A  跑了 5 次數\n",
            "盤由 B 移至 C  跑了 6 次數\n",
            "盤由 A 移至 C  跑了 7 次數\n"
          ],
          "name": "stdout"
        }
      ]
    }
  ]
}