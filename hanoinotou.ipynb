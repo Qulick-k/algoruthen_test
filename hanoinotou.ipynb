{
  "nbformat": 4,
  "nbformat_minor": 0,
  "metadata": {
    "colab": {
      "name": "Untitled1.ipynb",
      "provenance": [],
      "authorship_tag": "ABX9TyP4HGzuZeHHEDCMOv3Bpqtv",
      "include_colab_link": true
    },
    "kernelspec": {
      "name": "python3",
      "display_name": "Python 3"
    }
  },
  "cells": [
    {
      "cell_type": "markdown",
      "metadata": {
        "id": "view-in-github",
        "colab_type": "text"
      },
      "source": [
        "<a href=\"https://colab.research.google.com/github/Qulick-k/algoruthen_test/blob/master/hanoinotou.ipynb\" target=\"_parent\"><img src=\"https://colab.research.google.com/assets/colab-badge.svg\" alt=\"Open In Colab\"/></a>"
      ]
    },
    {
      "cell_type": "code",
      "metadata": {
        "id": "uMTsBE9OIRHI",
        "outputId": "922a142c-57fe-433e-c4e9-ac01495bba2c",
        "colab": {
          "base_uri": "https://localhost:8080/"
        }
      },
      "source": [
        "def tower(n ,start, temp, end):                                         # n 等於輸入的整數。假設 n = 3 ，則河內塔必跑7次。\n",
        "  if n == 1:                                                  # 當n等於1的時候\n",
        "   return [(start, end)]                                            #move the n-th disk from start to end\n",
        "  else:                                                      # 當 n 還沒等於 1 的時候\n",
        "   return tower(n-1, start, end, temp) + tower(1, start, temp, end) + tower(n-1, temp, start, end) #f(n-1) + 1 + f(n-1)\n",
        "\n",
        "kazo = 0                                                      #拿來算次數的變數容器而已\n",
        "number = input('please type an integer: ')\n",
        "for move in tower(int(number), 'start', 'temp', 'end'):\n",
        " kazo = kazo + 1\n",
        " message = '盤由 {first} 移至 {second} '.format(first = move[0], second = move[1]) \n",
        " print(message,\"跑了\",kazo,\"次數\")\n",
        "\n",
        "#A|B|C 回想\n",
        "\n",
        "#1\n",
        "#2\n",
        "#3\n",
        "\n",
        "#2         tower(n-1, start, end, temp)\n",
        "#3   1\n",
        "\n",
        "#3 2 1\n",
        "\n",
        "#  1\n",
        "#3 2\n",
        "\n",
        "#  1\n",
        "#  2 3\n",
        "\n",
        "#1 2 3\n",
        "\n",
        "#    2\n",
        "#1   3\n",
        "\n",
        "#    1\n",
        "#    2\n",
        "#    3 \n",
        "\n",
        "\n",
        "#N=4的搬運次數\n",
        "\n",
        "#1\n",
        "#2\n",
        "#3\n",
        "#4\n",
        "\n",
        "#2\n",
        "#3\n",
        "#4 1\n",
        "\n",
        "#3\n",
        "#4 1 2\n",
        "\n",
        "#3   1\n",
        "#4   2\n",
        "\n",
        "#   1\n",
        "#4 3 2\n",
        "\n",
        "#1\n",
        "#4 3 2\n",
        "\n",
        "#1 2\n",
        "#4 3\n",
        "\n",
        "#  1\n",
        "#  2\n",
        "#4 3\n",
        "\n",
        "#  1\n",
        "#  2\n",
        "#  3 4\n",
        "\n",
        "#  2 1\n",
        "#  3 4\n",
        "\n",
        "#    1\n",
        "#2 3 4\n",
        "\n",
        "#1\n",
        "#2 3 4\n",
        "\n",
        "#1   3\n",
        "#2   4\n",
        "\n",
        "#    3\n",
        "#2 1 4\n",
        "\n",
        "#    2\n",
        "#    3\n",
        "#  1 4\n",
        "\n",
        "#    1\n",
        "#    2\n",
        "#    3\n",
        "#    4\n"
      ],
      "execution_count": 35,
      "outputs": [
        {
          "output_type": "stream",
          "text": [
            "please type an integer: 3\n",
            "盤由 start 移至 end  跑了 1 次數\n",
            "盤由 start 移至 temp  跑了 2 次數\n",
            "盤由 end 移至 temp  跑了 3 次數\n",
            "盤由 start 移至 end  跑了 4 次數\n",
            "盤由 temp 移至 start  跑了 5 次數\n",
            "盤由 temp 移至 end  跑了 6 次數\n",
            "盤由 start 移至 end  跑了 7 次數\n"
          ],
          "name": "stdout"
        }
      ]
    }
  ]
  
  ![image](https://github.com/Qulick-k/algoruthen_test/blob/master/46970.jpg)
}

