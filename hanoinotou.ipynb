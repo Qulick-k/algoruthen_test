{
  "nbformat": 4,
  "nbformat_minor": 0,
  "metadata": {
    "colab": {
      "name": "Untitled1.ipynb",
      "provenance": [],
      "authorship_tag": "ABX9TyOK8gKa9pDqoAqGJEm06Ek5",
      "include_colab_link": true
    },
    "kernelspec": {
      "name": "python3",
      "display_name": "Python 3"
    }
  },
  "cells": [
    {
      "cell_type": "markdown",
      "metadata": {
        "id": "view-in-github",
        "colab_type": "text"
      },
      "source": [
        "<a href=\"https://colab.research.google.com/github/Qulick-k/algoruthen_test/blob/master/hanoinotou.ipynb\" target=\"_parent\"><img src=\"https://colab.research.google.com/assets/colab-badge.svg\" alt=\"Open In Colab\"/></a>"
      ]
    },
    {
      "cell_type": "code",
      "metadata": {
        "id": "uMTsBE9OIRHI",
        "outputId": "25364304-3272-4b62-9868-d424f2574d05",
        "colab": {
          "base_uri": "https://localhost:8080/"
        }
      },
      "source": [
        "def tower(n ,A, B, C): # n 等於輸入的整數。假設 n = 3 ，則河內塔必跑7次。\n",
        "  if n == 1:      # 剩最後一次的時候，一定是從A塔轉到C塔。\n",
        "   return [(A, C)]\n",
        "  else:         # 當 n 還沒等於 1 的時候\n",
        "   return hanoi(n-1, A, C, B) + hanoi(1, A, B, C) + hanoi(n-1, B, A, C)\n",
        "\n",
        "kazo = 0  #拿來算次數的變數容器而已\n",
        "number = input('please type an integer: ')\n",
        "for move in hanoi(int(number), 'A', 'B', 'C'):\n",
        " kazo = kazo + 1\n",
        " message = '盤由 {first} 移至 {second} '.format(first = move[0], second = move[1]) \n",
        " print(message,\"跑了\",kazo,\"次數\")\n"
      ],
      "execution_count": 7,
      "outputs": [
        {
          "output_type": "stream",
          "text": [
            "please type an integer: 3\n",
            "盤由 A 移至 C  跑了 1 次數\n",
            "盤由 A 移至 B  跑了 2 次數\n",
            "盤由 C 移至 B  跑了 3 次數\n",
            "盤由 A 移至 C  跑了 4 次數\n",
            "盤由 B 移至 A  跑了 5 次數\n",
            "盤由 B 移至 C  跑了 6 次數\n",
            "盤由 A 移至 C  跑了 7 次數\n"
          ],
          "name": "stdout"
        }
      ]
    }
  ]
}