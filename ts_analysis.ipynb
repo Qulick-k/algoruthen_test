{
  "nbformat": 4,
  "nbformat_minor": 0,
  "metadata": {
    "colab": {
      "name": "Untitled0.ipynb",
      "provenance": [],
      "include_colab_link": true
    },
    "kernelspec": {
      "name": "python3",
      "display_name": "Python 3"
    }
  },
  "cells": [
    {
      "cell_type": "markdown",
      "metadata": {
        "id": "view-in-github",
        "colab_type": "text"
      },
      "source": [
        "<a href=\"https://colab.research.google.com/github/Qulick-k/algoruthen_test/blob/master/ts_analysis.ipynb\" target=\"_parent\"><img src=\"https://colab.research.google.com/assets/colab-badge.svg\" alt=\"Open In Colab\"/></a>"
      ]
    },
    {
      "cell_type": "code",
      "metadata": {
        "id": "uvJ3KtIU4F7u",
        "outputId": "ec351fea-70fc-4c4e-f0c4-ea49b9f506f7",
        "colab": {
          "base_uri": "https://localhost:8080/"
        }
      },
      "source": [
        "#用時間換空間\n",
        "\n",
        "def decide(year):                                       \n",
        "     return  (year % 4 == 0 and year % 100 != 0) or year % 400 == 0  #設個函數來判斷閏年的規則\n",
        "\n",
        "systemcall = int(input(\"想判斷哪一年是閏年?:\"))                       #取輸入值\n",
        "\n",
        "print(decide(systemcall))                                   #輸出判斷值,是閏年=true,不是閏年=false\n",
        "\n",
        "\n",
        "\n",
        "#用空間換時間\n",
        "\n",
        "allyears = []                                           \n",
        "\n",
        "\n",
        "for i in range(2000,2041):                                 #先設個list，然後用迴圈判斷2020~2040間那些年分是閏年後，再把那些數塞到list\n",
        "  if (i % 4 == 0 and i % 100 != 0) or i % 400 == 0:\n",
        "    allyears.append(i)\n",
        "\n",
        "\n",
        "cool = int(input(\"\\n想判斷哪一年也是閏年?:\"))                        #隨意輸入一個數字\n",
        "\n",
        "\n",
        "if cool in  allyears:                                   #檢查數字有沒有在串列中，有就回是，沒有就回不是\n",
        "  print(\"是哦!\")\n",
        "else:\n",
        "  print(\"不是哦!!\")\n",
        "\n",
        "\n",
        "\n",
        "\n",
        "\n"
      ],
      "execution_count": null,
      "outputs": [
        {
          "output_type": "stream",
          "text": [
            "想判斷哪一年是閏年?:5\n",
            "False\n",
            "\n",
            "想判斷哪一年也是閏年?:2032\n",
            "是哦!\n"
          ],
          "name": "stdout"
        }
      ]
    },
    {
      "cell_type": "code",
      "metadata": {
        "id": "yqiWpwD6ClQa"
      },
      "source": [
        "\n"
      ],
      "execution_count": null,
      "outputs": []
    }
  ]
}