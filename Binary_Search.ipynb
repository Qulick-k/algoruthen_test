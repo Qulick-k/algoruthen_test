{
  "nbformat": 4,
  "nbformat_minor": 0,
  "metadata": {
    "colab": {
      "name": "Untitled2.ipynb",
      "provenance": [],
      "authorship_tag": "ABX9TyNxTi/hnI5c1RgiJwU21wCy",
      "include_colab_link": true
    },
    "kernelspec": {
      "name": "python3",
      "display_name": "Python 3"
    }
  },
  "cells": [
    {
      "cell_type": "markdown",
      "metadata": {
        "id": "view-in-github",
        "colab_type": "text"
      },
      "source": [
        "<a href=\"https://colab.research.google.com/github/Qulick-k/algoruthen_test/blob/master/Binary_Search.ipynb\" target=\"_parent\"><img src=\"https://colab.research.google.com/assets/colab-badge.svg\" alt=\"Open In Colab\"/></a>"
      ]
    },
    {
      "cell_type": "code",
      "metadata": {
        "id": "cxMWe2QS9gXT",
        "outputId": "d8908a8d-7589-432c-8bd1-e21476507439",
        "colab": {
          "base_uri": "https://localhost:8080/",
          "height": 34
        }
      },
      "source": [
        "def binarySearch(arr, l, r ,x):\n",
        "  if r>=l:\n",
        "    mid = l+(r-l)//2\n",
        "    if arr[mid] == x:\n",
        "      return mid\n",
        "    elif arr[mid] > x:\n",
        "      return binarySearch(arr, l, mid-1, x)\n",
        "    else:\n",
        "      return binarySearch(arr, mid+1, r ,x)\n",
        "  else:\n",
        "    return -1\n",
        "arr = [5, 8, 9, 15, 30]\n",
        "x = 9\n",
        "\n",
        "#Function Call\n",
        "result = binarySearch(arr, 0, len(arr)-1, x)\n",
        "\n",
        "if result != -1:\n",
        "  print(\"元素在索引 % d\" % result)\n",
        "else:\n",
        "  print(\"陣列中找不到該元素\")"
      ],
      "execution_count": 2,
      "outputs": [
        {
          "output_type": "stream",
          "text": [
            "元素在索引  2\n"
          ],
          "name": "stdout"
        }
      ]
    },
    {
      "cell_type": "code",
      "metadata": {
        "id": "kAGHmDIeAIXC",
        "outputId": "8d0bd576-038d-4232-b43c-e7369d63b8cc",
        "colab": {
          "base_uri": "https://localhost:8080/",
          "height": 391
        }
      },
      "source": [
        "#輸入的值 5個值\n",
        "#排序後的結果\n",
        "#要搜尋的KEY VALUE\n",
        "#二元搜尋的結果+索引位置\n",
        "\n",
        "def binarySearch(arr, l, r ,x):\n",
        "  if r>=l:\n",
        "    mid = l+(r-l)//2\n",
        "    if arr[mid] == x:\n",
        "      return mid\n",
        "    elif arr[mid] > x:\n",
        "      return binarySearch(arr, l, mid-1, x)\n",
        "    else:\n",
        "      return binarySearch(arr, mid+1, r ,x)\n",
        "  else:\n",
        "    return -1\n",
        "\n",
        "def Bubble_Sort(datas):\n",
        "    \n",
        "    for i in range(1, len(datas)):              \n",
        "        for j in range(len(datas)-i):                        \n",
        "            if datas[j] >= datas[j+1]:          \n",
        "                print(datas[j],\"a\",\"i=\",i)\n",
        "                datas[j], datas[j+1] = datas[j+1], datas[j]  \n",
        "                print(datas[j],\"b\",\"j=\",j)\n",
        "    return datas\n",
        "\n",
        "\n",
        "\n",
        "\n",
        "#Function Call\n",
        "arr = []\n",
        "for i in range(5):\n",
        "   a = int(input(\"請輸入隨意5個數字\")) #\n",
        "   arr.append(a)           \n",
        "   \n",
        "\n",
        "x = int(input(\"想查哪一個值?\"))\n",
        "\n",
        "print(\"\\n這是未整理過的陣列: \",arr)\n",
        "\n",
        "b = Bubble_Sort(arr)\n",
        "\n",
        "print(\"\\n這是整理過後: \",b)\n",
        "\n",
        "print(\"這是Key Value:\",x)\n",
        "\n",
        "result = binarySearch(arr, 0, len(arr)-1, x)\n",
        "\n",
        "if result != -1:\n",
        "  print(\"元素在索引: % d\" % result)\n",
        "else:\n",
        "  print(\"陣列中找不到該元素\")"
      ],
      "execution_count": 11,
      "outputs": [
        {
          "output_type": "stream",
          "text": [
            "請輸入隨意5個數字87\n",
            "請輸入隨意5個數字63\n",
            "請輸入隨意5個數字78\n",
            "請輸入隨意5個數字36\n",
            "請輸入隨意5個數字111\n",
            "想查哪一個值?87\n",
            "\n",
            "這是未整理過的陣列:  [87, 63, 78, 36, 111]\n",
            "87 a i= 1\n",
            "63 b j= 0\n",
            "87 a i= 1\n",
            "78 b j= 1\n",
            "87 a i= 1\n",
            "36 b j= 2\n",
            "78 a i= 2\n",
            "36 b j= 1\n",
            "63 a i= 3\n",
            "36 b j= 0\n",
            "\n",
            "這是整理過後:  [36, 63, 78, 87, 111]\n",
            "這是Key Value: 87\n",
            "元素在索引:  3\n"
          ],
          "name": "stdout"
        }
      ]
    }
  ]
}