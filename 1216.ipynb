{
  "nbformat": 4,
  "nbformat_minor": 0,
  "metadata": {
    "colab": {
      "name": "Untitled5.ipynb",
      "provenance": [],
      "authorship_tag": "ABX9TyML/2wZjCxDmFW7DyxFrKFY",
      "include_colab_link": true
    },
    "kernelspec": {
      "name": "python3",
      "display_name": "Python 3"
    }
  },
  "cells": [
    {
      "cell_type": "markdown",
      "metadata": {
        "id": "view-in-github",
        "colab_type": "text"
      },
      "source": [
        "<a href=\"https://colab.research.google.com/github/Qulick-k/algoruthen_test/blob/master/1216.ipynb\" target=\"_parent\"><img src=\"https://colab.research.google.com/assets/colab-badge.svg\" alt=\"Open In Colab\"/></a>"
      ]
    },
    {
      "cell_type": "markdown",
      "metadata": {
        "id": "4JDqSCM6XWR0"
      },
      "source": [
        "子集和問題\r\n",
        "\r\n",
        "給一個整數集合，判斷是否存在某個非空子集，使子集內的\"數字和\"為某個特定數值。\r\n",
        "譬如，給個定集合{2,3,7,8,10}，是否存在子集和為11的集合?\r\n",
        "\r\n",
        "答案是，有\r\n",
        "\r\n",
        "因為子集{3,8}的數字和是11。\r\n",
        "\r\n",
        "---\r\n",
        "  　＋0 1 2 3 4 5 6 7 8 9 10 11\r\n",
        "\r\n",
        "2  　T F T F F F F F F F F  F\r\n",
        "\r\n",
        "3  　T F T T F T F F F F　F  F\r\n",
        "\r\n",
        "7  　T F T T F T F T F T T  F\r\n",
        "\r\n",
        "8  　T F T T F T F T T T T  T\r\n",
        "\r\n",
        "10 　T　F T T F T F T T T T 　T\r\n",
        "\r\n",
        "10\r\n",
        "\r\n",
        "---\r\n",
        "https://en.wikipedia.org/wiki/Subset_sum_problem\r\n",
        "https://www.youtube.com/watch?v=s6FhG--P7z0\r\n",
        "https://github.com/mission-peace/interview/blob/master/src/com/interview/dynamic/SubsetSum.java\r\n",
        "\r\n",
        "\r\n",
        "\r\n",
        "\r\n",
        "\r\n",
        "\r\n",
        "\r\n",
        "\r\n",
        "\r\n",
        "\r\n",
        "\r\n"
      ]
    }
  ]
}