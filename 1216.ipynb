{
  "nbformat": 4,
  "nbformat_minor": 0,
  "metadata": {
    "colab": {
      "name": "Untitled5.ipynb",
      "provenance": [],
      "authorship_tag": "ABX9TyOKCMd4CUMkOdp49QFEeO2C",
      "include_colab_link": true
    },
    "kernelspec": {
      "name": "python3",
      "display_name": "Python 3"
    }
  },
  "cells": [
    {
      "cell_type": "markdown",
      "metadata": {
        "id": "view-in-github",
        "colab_type": "text"
      },
      "source": [
        "<a href=\"https://colab.research.google.com/github/Qulick-k/algoruthen_test/blob/master/1216.ipynb\" target=\"_parent\"><img src=\"https://colab.research.google.com/assets/colab-badge.svg\" alt=\"Open In Colab\"/></a>"
      ]
    },
    {
      "cell_type": "markdown",
      "metadata": {
        "id": "4JDqSCM6XWR0"
      },
      "source": [
        "子集和問題\r\n",
        "\r\n",
        "給一個整數集合，判斷是否存在某個非空子集，使子集內的\"數字和\"為某個特定數值。\r\n",
        "譬如，給個定集合{-7,-3,-2,5,8}，是否存在子集和為0的集合?\r\n",
        "\r\n",
        "答案是，有\r\n",
        "\r\n",
        "因為子集{-3,-2,5}的數字和是0。\r\n",
        "\r\n",
        "---\r\n",
        "\r\n",
        "\r\n",
        "\r\n",
        "\r\n",
        "假定序列:X1,.....Xn\r\n",
        "\r\n",
        "為了判斷有沒有存在某個非空子集，使子集中的數字和為0。所以設序列中負數的和為N(negative)，正數的和為P(Positive)。\r\n",
        "\r\n",
        "再定義函數Q(i,s)，涵義為是否存在 X1,.....Xi 的非空子集，使得子集中的數字和為\"s\"\r\n",
        "\r\n",
        "子集合加總問題的答案，在這例子是Q(n,0)\r\n",
        "\r\n",
        "如果 s<N 或是 s>P ，則 Q(i,s) = false，所以這些值不需要記錄\r\n",
        "\r\n",
        "需要的是，生出一個array去紀錄那些Q(i,s)值符合1 ≤ i ≤ n 且 N ≤ s ≤ P\r\n",
        "\r\n",
        "使用遞迴，先針對 N ≤ s ≤ P ，設定 Q(1, s) := (X1 == s)\r\n",
        "\r\n",
        "再來對 i=2,.......,n 和 N ≤ s ≤ P ，設定 Q(i, s) := Q(i - 1, s) 或\r\n",
        " (Xi == s) 或 Q(i - 1, s - Xi)\r\n",
        "\r\n",
        " 總時間是O(n(P-N))\r\n",
        "\r\n",
        "\r\n",
        "\r\n",
        "\r\n",
        "\r\n",
        "\r\n",
        "\r\n",
        "\r\n",
        "\r\n",
        "\r\n",
        "\r\n",
        "\r\n"
      ]
    }
  ]
}