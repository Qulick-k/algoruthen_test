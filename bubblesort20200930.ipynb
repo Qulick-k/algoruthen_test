{
  "nbformat": 4,
  "nbformat_minor": 0,
  "metadata": {
    "colab": {
      "name": "bubblesort.ipynb",
      "provenance": [],
      "include_colab_link": true
    },
    "kernelspec": {
      "name": "python3",
      "display_name": "Python 3"
    }
  },
  "cells": [
    {
      "cell_type": "markdown",
      "metadata": {
        "id": "view-in-github",
        "colab_type": "text"
      },
      "source": [
        "<a href=\"https://colab.research.google.com/github/Qulick-k/algoruthen_test/blob/master/bubblesort20200930.ipynb\" target=\"_parent\"><img src=\"https://colab.research.google.com/assets/colab-badge.svg\" alt=\"Open In Colab\"/></a>"
      ]
    },
    {
      "cell_type": "markdown",
      "metadata": {
        "id": "32sgU0StMiof"
      },
      "source": [
        "Bubble sort (氣泡排序)"
      ]
    },
    {
      "cell_type": "code",
      "metadata": {
        "id": "esB_4fSeMLYJ",
        "outputId": "3bb2c19a-6897-4948-ab0f-e78b0e7f7ec8",
        "colab": {
          "base_uri": "https://localhost:8080/",
          "height": 52
        }
      },
      "source": [
        "def Bubble_Sort(datas):\n",
        "    \n",
        "    for i in range(1, len(datas)):              #由於5 9 8 7 6 2這字串的len為10，所以輸出的串列會多出5個空格，待解決 \n",
        "        for j in range(len(datas)-i):   # \n",
        "            if datas[j] > datas[j+1]:   # \n",
        "                datas[j], datas[j+1] = datas[j+1], datas[j]  \n",
        "    return datas\n",
        "\n",
        "  \n",
        "\n",
        "#if __name__ == '__main__':\n",
        "    #import random\n",
        "    #random.shuffle(a)\n",
        "    #print(a)\n",
        "    \n",
        "\n",
        "\n",
        "a = list(input(\"請輸入6個數字\").split(\" \")) #把range換成輸入\n",
        "\n",
        "a = Bubble_Sort(a)\n",
        "    \n",
        "print(a)"
      ],
      "execution_count": 30,
      "outputs": [
        {
          "output_type": "stream",
          "text": [
            "請輸入6個數字100 10 300 30 50 500\n",
            "['10', '100', '30', '300', '50', '500']\n"
          ],
          "name": "stdout"
        }
      ]
    },
    {
      "cell_type": "markdown",
      "metadata": {
        "id": "MOQ_aZKnM-wL"
      },
      "source": [
        "請加入註解，並將程式修改為加入六個數做氣泡排序\n"
      ]
    }
  ]
}