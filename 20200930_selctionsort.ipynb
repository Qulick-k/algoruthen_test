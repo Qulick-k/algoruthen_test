{
  "nbformat": 4,
  "nbformat_minor": 0,
  "metadata": {
    "colab": {
      "name": "selctionsort.ipynb",
      "provenance": [],
      "collapsed_sections": [],
      "include_colab_link": true
    },
    "kernelspec": {
      "name": "python3",
      "display_name": "Python 3"
    }
  },
  "cells": [
    {
      "cell_type": "markdown",
      "metadata": {
        "id": "view-in-github",
        "colab_type": "text"
      },
      "source": [
        "<a href=\"https://colab.research.google.com/github/Qulick-k/algoruthen_test/blob/master/20200930_selctionsort.ipynb\" target=\"_parent\"><img src=\"https://colab.research.google.com/assets/colab-badge.svg\" alt=\"Open In Colab\"/></a>"
      ]
    },
    {
      "cell_type": "markdown",
      "metadata": {
        "id": "W-Z0kMaDLJOp"
      },
      "source": [
        "Selection sort (選擇排序)"
      ]
    },
    {
      "cell_type": "code",
      "metadata": {
        "id": "8tM3sv79HQ_V",
        "outputId": "d66fb30f-b7be-4023-ace7-d5a9db5d5c43",
        "colab": {
          "base_uri": "https://localhost:8080/",
          "height": 527
        }
      },
      "source": [
        "def Selction_Sort(datas):\n",
        "    for i in range(len(datas)-1):                             # n - 1\n",
        "        min = i # 第一次選從第一個數開始,第二次從第二個數開始             # n - 1\n",
        "        for j in range(i+1, len(datas)):    # 用記錄的max數與其他的比較     # 當i=1 j=2~6 當i=2 j=3~6 ...etc (n-1)*n/2\n",
        "            if datas[j] < datas[min]:\n",
        "                min = j                             # n - 1\n",
        "\n",
        "        datas[i], datas[min] = datas[min], datas[i]                  # n - 1\n",
        "\n",
        "        print(datas)\n",
        "        print('---'*10)\n",
        "    return datas                                       # 1 \n",
        "\n",
        "\n",
        "if __name__ == '__main__':\n",
        "    import random\n",
        "    a = list(range(1,16))\n",
        "    random.shuffle(a)\n",
        "    print(a)\n",
        "    a = Selction_Sort(a)\n",
        "    print(a)"
      ],
      "execution_count": null,
      "outputs": [
        {
          "output_type": "stream",
          "text": [
            "[8, 12, 1, 11, 4, 5, 14, 2, 9, 6, 7, 15, 3, 10, 13]\n",
            "[1, 12, 8, 11, 4, 5, 14, 2, 9, 6, 7, 15, 3, 10, 13]\n",
            "------------------------------\n",
            "[1, 2, 8, 11, 4, 5, 14, 12, 9, 6, 7, 15, 3, 10, 13]\n",
            "------------------------------\n",
            "[1, 2, 3, 11, 4, 5, 14, 12, 9, 6, 7, 15, 8, 10, 13]\n",
            "------------------------------\n",
            "[1, 2, 3, 4, 11, 5, 14, 12, 9, 6, 7, 15, 8, 10, 13]\n",
            "------------------------------\n",
            "[1, 2, 3, 4, 5, 11, 14, 12, 9, 6, 7, 15, 8, 10, 13]\n",
            "------------------------------\n",
            "[1, 2, 3, 4, 5, 6, 14, 12, 9, 11, 7, 15, 8, 10, 13]\n",
            "------------------------------\n",
            "[1, 2, 3, 4, 5, 6, 7, 12, 9, 11, 14, 15, 8, 10, 13]\n",
            "------------------------------\n",
            "[1, 2, 3, 4, 5, 6, 7, 8, 9, 11, 14, 15, 12, 10, 13]\n",
            "------------------------------\n",
            "[1, 2, 3, 4, 5, 6, 7, 8, 9, 11, 14, 15, 12, 10, 13]\n",
            "------------------------------\n",
            "[1, 2, 3, 4, 5, 6, 7, 8, 9, 10, 14, 15, 12, 11, 13]\n",
            "------------------------------\n",
            "[1, 2, 3, 4, 5, 6, 7, 8, 9, 10, 11, 15, 12, 14, 13]\n",
            "------------------------------\n",
            "[1, 2, 3, 4, 5, 6, 7, 8, 9, 10, 11, 12, 15, 14, 13]\n",
            "------------------------------\n",
            "[1, 2, 3, 4, 5, 6, 7, 8, 9, 10, 11, 12, 13, 14, 15]\n",
            "------------------------------\n",
            "[1, 2, 3, 4, 5, 6, 7, 8, 9, 10, 11, 12, 13, 14, 15]\n",
            "------------------------------\n",
            "[1, 2, 3, 4, 5, 6, 7, 8, 9, 10, 11, 12, 13, 14, 15]\n"
          ],
          "name": "stdout"
        }
      ]
    },
    {
      "cell_type": "markdown",
      "metadata": {
        "id": "MiWPt8bALDN5"
      },
      "source": [
        "總共跑了(n平方-n)/2+4n-3次\n"
      ]
    }
  ]
}