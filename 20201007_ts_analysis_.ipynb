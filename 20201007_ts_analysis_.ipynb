{
  "nbformat": 4,
  "nbformat_minor": 0,
  "metadata": {
    "colab": {
      "name": "Untitled0.ipynb",
      "provenance": [],
      "authorship_tag": "ABX9TyOkA98d9+mj71vbFf36ou8G",
      "include_colab_link": true
    },
    "kernelspec": {
      "name": "python3",
      "display_name": "Python 3"
    }
  },
  "cells": [
    {
      "cell_type": "markdown",
      "metadata": {
        "id": "view-in-github",
        "colab_type": "text"
      },
      "source": [
        "<a href=\"https://colab.research.google.com/github/Qulick-k/algoruthen_test/blob/master/20201007_ts_analysis_.ipynb\" target=\"_parent\"><img src=\"https://colab.research.google.com/assets/colab-badge.svg\" alt=\"Open In Colab\"/></a>"
      ]
    },
    {
      "cell_type": "code",
      "metadata": {
        "id": "uvJ3KtIU4F7u",
        "outputId": "673b1b6e-24e4-4d49-ccae-9f8e237a9f76",
        "colab": {
          "base_uri": "https://localhost:8080/"
        }
      },
      "source": [
        "#用時間換空間\n",
        "\n",
        "def decide(year):                                       \n",
        "     return  (year % 4 == 0 and year % 100 != 0) or year % 400 == 0  #設個函數來判斷閏年的規則\n",
        "\n",
        "systemcall = int(input(\"想判斷哪一年是閏年?:\"))                       #取輸入值\n",
        "\n",
        "print(decide(systemcall))                                   #印出判斷值\n",
        "\n",
        "#用空間換時間\n",
        "\n",
        "\n",
        "\n"
      ],
      "execution_count": 9,
      "outputs": [
        {
          "output_type": "stream",
          "text": [
            "想判斷哪一年是閏年?:2019\n",
            "False\n"
          ],
          "name": "stdout"
        }
      ]
    }
  ]
}