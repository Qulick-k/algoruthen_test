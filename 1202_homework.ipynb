{
  "nbformat": 4,
  "nbformat_minor": 0,
  "metadata": {
    "colab": {
      "name": "「Untitled2.ipynb」的副本",
      "provenance": [],
      "authorship_tag": "ABX9TyMH0bo5J9yxjTo1N/3GDYvV",
      "include_colab_link": true
    },
    "kernelspec": {
      "name": "python3",
      "display_name": "Python 3"
    }
  },
  "cells": [
    {
      "cell_type": "markdown",
      "metadata": {
        "id": "view-in-github",
        "colab_type": "text"
      },
      "source": [
        "<a href=\"https://colab.research.google.com/github/Qulick-k/algoruthen_test/blob/master/1202_homework.ipynb\" target=\"_parent\"><img src=\"https://colab.research.google.com/assets/colab-badge.svg\" alt=\"Open In Colab\"/></a>"
      ]
    },
    {
      "cell_type": "code",
      "metadata": {
        "colab": {
          "base_uri": "https://localhost:8080/"
        },
        "id": "LQ93vVoZLhJw",
        "outputId": "54247592-9d0e-4225-aa62-ffd43e2ea6f4"
      },
      "source": [
        "t = [25, 20, 5, 1]\n",
        "\n",
        "def change(t,n):       # 4\n",
        "  m = [0 for _ in range(len(t))]\n",
        "  for i, money in enumerate(t):\n",
        "    m[i] = n // money\n",
        "    n = n % money\n",
        "    print(m, end=\"\")\n",
        "    print(n)\n",
        "    \n",
        "print(change(t,41))\n",
        "\n",
        "\n",
        "\n"
      ],
      "execution_count": null,
      "outputs": [
        {
          "output_type": "stream",
          "text": [
            "[1, 0, 0, 0]16\n",
            "[1, 0, 0, 0]16\n",
            "[1, 0, 3, 0]1\n",
            "[1, 0, 3, 1]0\n",
            "None\n"
          ],
          "name": "stdout"
        }
      ]
    },
    {
      "cell_type": "code",
      "metadata": {
        "colab": {
          "base_uri": "https://localhost:8080/"
        },
        "id": "nbzB6wDAXZ2E",
        "outputId": "3149d3f4-e02a-466c-b616-bfef1ba3842d"
      },
      "source": [
        "def for_change(coin,change,dp,newcoin):\n",
        "  for i in range(1,change+1):\n",
        "    for j in range(len(coin)):\n",
        "      if coin[j] <= i:\n",
        "        if dp[i-coin[j]]+1 < dp[i]:\n",
        "          dp[i] = dp[i-coin[j]]+1\n",
        "          tempcoin = coin[j]\n",
        "    newcoin[i] = tempcoin\n",
        "  \n",
        "  if dp[change] > change:\n",
        "    return -1\n",
        "  else:\n",
        "    return dp[change]\n",
        "\n",
        "def oldcoin(change,oldcoin):\n",
        "  re=[]\n",
        "  while change:\n",
        "    tmp=oldcoin[change]\n",
        "    re.append(tmp)\n",
        "    change-=tmp\n",
        "  return re \n",
        "\n",
        "if __name__ == '__main__':\n",
        "  coin=[25,20,5,1]\n",
        "  change=41\n",
        "  dp=[change+1]*(change+1)\n",
        "  dp[0]=0\n",
        "  newcoin=[0]*(change+1)\n",
        "\n",
        "  re = for_change(coin,change,dp,newcoin)\n",
        "  recoin = oldcoin(change,newcoin)\n",
        "  print(\"找錢{0}塊，用了{1}個錢錢，分別為{2}\".format(change,re,recoin))\n"
      ],
      "execution_count": 12,
      "outputs": [
        {
          "output_type": "stream",
          "text": [
            "找錢41塊，用了3個錢錢，分別為[20, 20, 1]\n"
          ],
          "name": "stdout"
        }
      ]
    },
    {
      "cell_type": "code",
      "metadata": {
        "id": "5Q6FnJaG3KPw",
        "outputId": "842dc0ce-6e6f-4f91-adcb-cc1a0a190943",
        "colab": {
          "base_uri": "https://localhost:8080/"
        }
      },
      "source": [
        "def bag(n,c,w,v):\n",
        "\tres=[[-1 for j in range(c+1)] for i in range(n+1)]\n",
        "\tfor j in range(c+1):\n",
        "\t\tres[0][j]=0\n",
        "\tfor i in range(1,n+1):\n",
        "\t\tfor j in range(1,c+1):\n",
        "\t\t\tres[i][j]=res[i-1][j]\n",
        "\t\t\tif j>=w[i-1] and res[i][j]<res[i-1][j-w[i-1]]+v[i-1]:\n",
        "\t\t\t\tres[i][j]=res[i-1][j-w[i-1]]+v[i-1]\n",
        "\treturn res\n",
        "\n",
        "def show(n,c,w,res):\n",
        "\tprint('最大價值為:',res[n][c])\n",
        "\tx=[False for i in range(n)]\n",
        "\tj=c\n",
        "\tfor i in range(1,n+1):\n",
        "\t\tif res[i][j]>res[i-1][j]:\n",
        "\t\t\tx[i-1]=True\n",
        "\t\t\tj-=w[i-1]\n",
        "\tprint('選擇的物品為:')\n",
        "\tfor i in range(n):\n",
        "\t\tif x[i]:\n",
        "\t\t\tprint('第',i,'個,',end='')\n",
        "\tprint('')\n",
        "\n",
        "if __name__=='__main__':\n",
        "\tn=5\n",
        "\tc=10\n",
        "\tw=[5,1,4,3,2]\n",
        "\tv=[17000,35000,60000,9000,20000]\n",
        "\tres=bag(n,c,w,v)\n",
        "\tshow(n,c,w,res)"
      ],
      "execution_count": 7,
      "outputs": [
        {
          "output_type": "stream",
          "text": [
            "最大價值為: 123999\n",
            "選擇的物品為:\n",
            "第 0 個,第 1 個,第 2 個,\n"
          ],
          "name": "stdout"
        }
      ]
    }
  ]
}