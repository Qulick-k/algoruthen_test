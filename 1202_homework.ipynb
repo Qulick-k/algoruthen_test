{
  "nbformat": 4,
  "nbformat_minor": 0,
  "metadata": {
    "colab": {
      "name": "「Untitled2.ipynb」的副本",
      "provenance": [],
      "authorship_tag": "ABX9TyPhQGcnpvfzD0fqrNjCiyAa",
      "include_colab_link": true
    },
    "kernelspec": {
      "name": "python3",
      "display_name": "Python 3"
    }
  },
  "cells": [
    {
      "cell_type": "markdown",
      "metadata": {
        "id": "view-in-github",
        "colab_type": "text"
      },
      "source": [
        "<a href=\"https://colab.research.google.com/github/Qulick-k/algoruthen_test/blob/master/1202_homework.ipynb\" target=\"_parent\"><img src=\"https://colab.research.google.com/assets/colab-badge.svg\" alt=\"Open In Colab\"/></a>"
      ]
    },
    {
      "cell_type": "code",
      "metadata": {
        "colab": {
          "base_uri": "https://localhost:8080/"
        },
        "id": "LQ93vVoZLhJw",
        "outputId": "54247592-9d0e-4225-aa62-ffd43e2ea6f4"
      },
      "source": [
        "#找錢，貪婪\n",
        "t = [25, 20, 5, 1]\n",
        "\n",
        "def change(t,n):       # 4\n",
        "  m = [0 for _ in range(len(t))]\n",
        "  for i, money in enumerate(t):\n",
        "    m[i] = n // money\n",
        "    n = n % money\n",
        "    print(m, end=\"\")\n",
        "    print(n)\n",
        "    \n",
        "print(change(t,41))\n",
        "\n",
        "\n",
        "\n"
      ],
      "execution_count": null,
      "outputs": [
        {
          "output_type": "stream",
          "text": [
            "[1, 0, 0, 0]16\n",
            "[1, 0, 0, 0]16\n",
            "[1, 0, 3, 0]1\n",
            "[1, 0, 3, 1]0\n",
            "None\n"
          ],
          "name": "stdout"
        }
      ]
    },
    {
      "cell_type": "code",
      "metadata": {
        "colab": {
          "base_uri": "https://localhost:8080/"
        },
        "id": "nbzB6wDAXZ2E",
        "outputId": "3149d3f4-e02a-466c-b616-bfef1ba3842d"
      },
      "source": [
        "#找錢，DP\n",
        "def for_change(coin,change,dp,newcoin):\n",
        "  for i in range(1,change+1):\n",
        "    for j in range(len(coin)):\n",
        "      if coin[j] <= i:\n",
        "        if dp[i-coin[j]]+1 < dp[i]:\n",
        "          dp[i] = dp[i-coin[j]]+1\n",
        "          tempcoin = coin[j]\n",
        "    newcoin[i] = tempcoin\n",
        "  \n",
        "  if dp[change] > change:\n",
        "    return -1\n",
        "  else:\n",
        "    return dp[change]\n",
        "\n",
        "def oldcoin(change,oldcoin):\n",
        "  re=[]\n",
        "  while change:\n",
        "    tmp=oldcoin[change]\n",
        "    re.append(tmp)\n",
        "    change-=tmp\n",
        "  return re \n",
        "\n",
        "if __name__ == '__main__':\n",
        "  coin=[25,20,5,1]\n",
        "  change=41\n",
        "  dp=[change+1]*(change+1)\n",
        "  dp[0]=0\n",
        "  newcoin=[0]*(change+1)\n",
        "\n",
        "  re = for_change(coin,change,dp,newcoin)\n",
        "  recoin = oldcoin(change,newcoin)\n",
        "  print(\"找錢{0}塊，用了{1}個錢錢，分別為{2}\".format(change,re,recoin))\n"
      ],
      "execution_count": null,
      "outputs": [
        {
          "output_type": "stream",
          "text": [
            "找錢41塊，用了3個錢錢，分別為[20, 20, 1]\n"
          ],
          "name": "stdout"
        }
      ]
    },
    {
      "cell_type": "code",
      "metadata": {
        "colab": {
          "base_uri": "https://localhost:8080/"
        },
        "id": "Dd_Mr9IY3m5O",
        "outputId": "1ed7abde-5539-4301-b4af-7967c3448071"
      },
      "source": [
        "#背包,貪婪 \n",
        "def knapsack( bag , weight , value ):\n",
        "  rate = [   v/w for v   ,   w in zip(value , weight)   ]\n",
        "  n = len(weight)\n",
        "  index = list( range(n) )\n",
        "  index.sort( key = lambda i : rate[i] , reverse = True )\n",
        "  max_value = 0\n",
        "  res = [0]*n\n",
        "  for i in index :\n",
        "    if weight[i] <= bag:\n",
        "      max_value += value[i]\n",
        "      bag -= weight[i]\n",
        "      res[i] = 1\n",
        "    else:\n",
        "      res[i] = bag // weight[i]\n",
        "      max_value += value[i] * res[i]\n",
        "      break\n",
        "  print(\"PS5 | iPad pro 12 | Macbook pro 15 | Homepod | Mac mini \\n\",res)\n",
        "  return max_value\n",
        "  print(rate)\n",
        "\n",
        "weight = [5 , 1 , 4 , 3 , 2]\n",
        "value = [ 17000 , 35000 , 60000 , 9000 , 20000]\n",
        "bag = 10\n",
        "print( knapsack(bag , weight , value))\n",
        "\n",
        "#找不到最佳解得樣子"
      ],
      "execution_count": 30,
      "outputs": [
        {
          "output_type": "stream",
          "text": [
            "PS5 | iPad pro 12 | Macbook pro 15 | Homepod | Mac mini \n",
            " [0, 1, 1, 0, 1]\n",
            "115000\n"
          ],
          "name": "stdout"
        }
      ]
    },
    {
      "cell_type": "code",
      "metadata": {
        "id": "5Q6FnJaG3KPw",
        "colab": {
          "base_uri": "https://localhost:8080/"
        },
        "outputId": "a92ba85f-0bcd-449c-e115-00365fe31f74"
      },
      "source": [
        "#背包，DP\n",
        "w= [5 , 1 , 4 , 3 , 2 ]           #重量\n",
        "v = [17000 , 35000 , 60000 , 9000 , 20000 ] #價值\n",
        "bagV = 10                    #背包負重\n",
        "dp = [ [0 for i in range(11) ] for i in range(5) ]             #動態規劃表，建二維陣列\n",
        "item = [0]*5                 #最漂亮的情況\n",
        "def findMax(): #動態規劃\n",
        "    for i in range (5):\n",
        "        for j in range(bagV+1):\n",
        "            if j < w[i]:\n",
        "                dp[i][j] = dp[i - 1][j];\n",
        "            else:\n",
        "                dp[i][j] = max(dp[i - 1][j], dp[i - 1][j - w[i]] + v[i]);\n",
        "def findWhat(i,j): #找最佳解\n",
        "    if i>=0:\n",
        "        if dp[i][j] == dp[i-1][j]:\n",
        "            item[i] = 0\n",
        "            findWhat(i-1,j)\n",
        "        elif j - w[i] >= 0 and  dp[i][j] == dp[i - 1][j - w[i]] + v[i]:\n",
        "            item[i] = 1\n",
        "            findWhat(i-1,j-w[i])\n",
        " \n",
        "def print1():\n",
        "    for i in range(5):\n",
        "        res = []\n",
        "        for j in range(11):\n",
        "            res.append(dp[i][j])\n",
        "        print(res)\n",
        "    print(\"PS5 | iPad pro 12 | Macbook pro 15 | Homepod | Mac mini \\n\",item)\n",
        "findMax()\n",
        "findWhat(4,10)\n",
        "print1()\n"
      ],
      "execution_count": 7,
      "outputs": [
        {
          "output_type": "stream",
          "text": [
            "[0, 0, 0, 0, 0, 17000, 17000, 17000, 17000, 17000, 17000]\n",
            "[0, 35000, 35000, 35000, 35000, 35000, 52000, 52000, 52000, 52000, 52000]\n",
            "[0, 35000, 35000, 35000, 60000, 95000, 95000, 95000, 95000, 95000, 112000]\n",
            "[0, 35000, 35000, 35000, 60000, 95000, 95000, 95000, 104000, 104000, 112000]\n",
            "[0, 35000, 35000, 55000, 60000, 95000, 95000, 115000, 115000, 115000, 124000]\n",
            "PS5 | iPad pro 12 | Macbook pro 15 | Homepod | Mac mini \n",
            " [0, 1, 1, 1, 1]\n"
          ],
          "name": "stdout"
        }
      ]
    }
  ]
}