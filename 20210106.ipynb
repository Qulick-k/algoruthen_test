{
  "nbformat": 4,
  "nbformat_minor": 0,
  "metadata": {
    "colab": {
      "name": "Untitled",
      "provenance": [],
      "collapsed_sections": [],
      "authorship_tag": "ABX9TyPa1u8dpItUFviOpenx1G4X",
      "include_colab_link": true
    },
    "kernelspec": {
      "name": "python3",
      "display_name": "Python 3"
    }
  },
  "cells": [
    {
      "cell_type": "markdown",
      "metadata": {
        "id": "view-in-github",
        "colab_type": "text"
      },
      "source": [
        "<a href=\"https://colab.research.google.com/github/Qulick-k/algoruthen_test/blob/master/20210106.ipynb\" target=\"_parent\"><img src=\"https://colab.research.google.com/assets/colab-badge.svg\" alt=\"Open In Colab\"/></a>"
      ]
    },
    {
      "cell_type": "code",
      "metadata": {
        "colab": {
          "base_uri": "https://localhost:8080/"
        },
        "id": "cu8eDxp_lI51",
        "outputId": "d9703957-939b-4db4-f3e4-92dc7ec0aaa5"
      },
      "source": [
        "from functools import reduce\r\n",
        "\r\n",
        "\r\n",
        "class Edge(object):\r\n",
        "    \"\"\"\r\n",
        "    邊 start起點 end終點 weight權重\r\n",
        "    \"\"\"\r\n",
        "\r\n",
        "    def __init__(self, start, end, weight):\r\n",
        "        self.start = start\r\n",
        "        self.end = end\r\n",
        "        self.weight = weight\r\n",
        "\r\n",
        "    def __str__(self):\r\n",
        "        return '%s->%s weight=%d' % (self.start, self.end, self.weight)\r\n",
        "\r\n",
        "\r\n",
        "class MiniTree(object):\r\n",
        "    def __init__(self, vertex, weight):\r\n",
        "        \"\"\"\r\n",
        "        最小生成樹\r\n",
        "        \"\"\"\r\n",
        "        self.vertex = vertex\r\n",
        "        self.weight = weight\r\n",
        "\r\n",
        "    def get_all_edges(self):\r\n",
        "        all_edges = []\r\n",
        "        for s in range(len(self.vertex)):\r\n",
        "            for e in range(len(self.vertex)):\r\n",
        "                if self.weight[s][e] != 10000:\r\n",
        "                    all_edges.append(Edge(s, e, self.weight[s][e]))\r\n",
        "        return all_edges\r\n",
        "\r\n",
        "    def disjoin_set_find_root(self, parent_root, start):\r\n",
        "        \"\"\"\r\n",
        "        檢查有沒有找到只有一個頂點的終點 \r\n",
        "        :return:\r\n",
        "        \"\"\"\r\n",
        "        while parent_root[start] != start:\r\n",
        "            return self.disjoin_set_find_root(parent_root, parent_root[start])\r\n",
        "        return start\r\n",
        "\r\n",
        "    def disjoin_set_union(self, parent_root, start, end):\r\n",
        "        \"\"\"\r\n",
        "        整合\r\n",
        "        :param parent_root:\r\n",
        "        :param start:\r\n",
        "        :param end:\r\n",
        "        :return:\r\n",
        "        \"\"\"\r\n",
        "        start_root = self.disjoin_set_find_root(parent_root, start)\r\n",
        "        end_root = self.disjoin_set_find_root(parent_root, end)\r\n",
        "        if start_root != end_root:\r\n",
        "            parent_root[start_root] = end_root\r\n",
        "\r\n",
        "    def create_min_tree_by_kruskal(self):\r\n",
        "        \"\"\"\r\n",
        "        1. 將所有的邊按照權重大小遞增排列  \r\n",
        "        2. 建一個陣列selectEdges存在選擇出來的邊 \r\n",
        "        3. 檢查已經排好序的邊，如果該邊不構成迴圈，則添加到selectEdges  \r\n",
        "        :return:\r\n",
        "        \"\"\"\r\n",
        "        # 所有選擇的邊，並升序排列\r\n",
        "        all_edges = self.get_all_edges()\r\n",
        "        all_edges.sort(key=lambda edge: edge.weight)\r\n",
        "        select_edges = []\r\n",
        "        parent_root = [i for i in range(len(self.vertex))]\r\n",
        "        while len(select_edges) < len(self.vertex) - 1:\r\n",
        "            # 判斷根已經選擇了的邊是否造成迴圈，使用到了就判斷\r\n",
        "            for edge in all_edges:\r\n",
        "                start = edge.start\r\n",
        "                end = edge.end\r\n",
        "                # 判斷核心是不是造成迴圈，沒構成迴圈，就加入選擇邊  \r\n",
        "                if self.disjoin_set_find_root(parent_root, start) != self.disjoin_set_find_root(parent_root, end):\r\n",
        "                    select_edges.append(edge)\r\n",
        "                    all_edges.remove(edge)\r\n",
        "                    self.disjoin_set_union(parent_root, start, end)\r\n",
        "        return select_edges\r\n",
        "\r\n",
        "\r\n",
        "if __name__ == '__main__':\r\n",
        "    mini_tree = MiniTree(['A', 'B', 'C', 'D', 'E', 'F'],\r\n",
        "                         [[10000, 2, 6, 10000, 10000, 10000], [2, 10000, 3, 10000, 5, 10000],\r\n",
        "                          [6, 3, 10000, 7, 10000, 10000], [10000, 10000, 7, 10000, 10000, 4],\r\n",
        "                          [10000, 5, 10000, 10000, 10000, 1], [10000, 10000, 10000, 4, 1, 10000] ])\r\n",
        "    min_tree_by_kruskal = mini_tree.create_min_tree_by_kruskal()\r\n",
        "    print(reduce(lambda x, y: x + y, map(lambda x: x.weight, min_tree_by_kruskal)))\r\n",
        "    for i in min_tree_by_kruskal:\r\n",
        "        print('%s->%s weight=%d' % (mini_tree.vertex[i.start], mini_tree.vertex[i.end], i.weight))"
      ],
      "execution_count": null,
      "outputs": [
        {
          "output_type": "stream",
          "text": [
            "15\n",
            "E->F weight=1\n",
            "A->B weight=2\n",
            "B->C weight=3\n",
            "D->F weight=4\n",
            "B->E weight=5\n"
          ],
          "name": "stdout"
        }
      ]
    },
    {
      "cell_type": "markdown",
      "metadata": {
        "id": "mgwteH9Sojfb"
      },
      "source": [
        ""
      ]
    }
  ]
}