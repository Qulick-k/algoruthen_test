{
  "nbformat": 4,
  "nbformat_minor": 0,
  "metadata": {
    "colab": {
      "name": "Untitled5.ipynb",
      "provenance": [],
      "authorship_tag": "ABX9TyMx6Mq3FlihQdxb0N/puURp",
      "include_colab_link": true
    },
    "kernelspec": {
      "name": "python3",
      "display_name": "Python 3"
    }
  },
  "cells": [
    {
      "cell_type": "markdown",
      "metadata": {
        "id": "view-in-github",
        "colab_type": "text"
      },
      "source": [
        "<a href=\"https://colab.research.google.com/github/Qulick-k/algoruthen_test/blob/master/1209_DP.ipynb\" target=\"_parent\"><img src=\"https://colab.research.google.com/assets/colab-badge.svg\" alt=\"Open In Colab\"/></a>"
      ]
    },
    {
      "cell_type": "markdown",
      "metadata": {
        "id": "4JDqSCM6XWR0"
      },
      "source": [
        "可以隨意輸入數字，來切割鐵條，並求出那最有價值的切割組合\r\n",
        "\r\n"
      ]
    },
    {
      "cell_type": "code",
      "metadata": {
        "colab": {
          "base_uri": "https://localhost:8080/"
        },
        "id": "LQQLG831XTrN",
        "outputId": "ff37e80f-421e-4d60-d777-77b58c1f2e6b"
      },
      "source": [
        "\r\n",
        "import sys \r\n",
        "  \r\n",
        "\r\n",
        "def max(a, b): \r\n",
        "    return a if (a > b) else b #挑兩數的最大值\r\n",
        "      \r\n",
        " \r\n",
        "def cutRod(price, n): \r\n",
        "    if(n <= 0): \r\n",
        "        return 0\r\n",
        "    max_val = -sys.maxsize-1\r\n",
        "    \r\n",
        "      \r\n",
        "\r\n",
        "    for i in range(0, n): \r\n",
        "        max_val = max(max_val, price[i] + cutRod(price, n - i - 1)) #每到n數，就找正在n數的所有組合有沒有大於原先的最大值max_val\r\n",
        "    return max_val \r\n",
        "\r\n",
        "arr = [1, 5, 8, 9, 10, 17, 17, 20, 24, 30] \r\n",
        "size = int(input(\"長度最多為10個單位，請輸入在其中的長度:\"))\r\n",
        "print(\"最大價值\", cutRod(arr, size)) "
      ],
      "execution_count": 7,
      "outputs": [
        {
          "output_type": "stream",
          "text": [
            "長度最多為10個單位，請輸入在其中的長度:10\n",
            "最大價值 30\n"
          ],
          "name": "stdout"
        }
      ]
    }
  ]
}