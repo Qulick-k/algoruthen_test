{
  "nbformat": 4,
  "nbformat_minor": 0,
  "metadata": {
    "colab": {
      "name": "Untitled5.ipynb",
      "provenance": [],
      "authorship_tag": "ABX9TyNMuCAJA2CLCPp3CB0QKSLL",
      "include_colab_link": true
    },
    "kernelspec": {
      "name": "python3",
      "display_name": "Python 3"
    }
  },
  "cells": [
    {
      "cell_type": "markdown",
      "metadata": {
        "id": "view-in-github",
        "colab_type": "text"
      },
      "source": [
        "<a href=\"https://colab.research.google.com/github/Qulick-k/algoruthen_test/blob/master/1209_DP.ipynb\" target=\"_parent\"><img src=\"https://colab.research.google.com/assets/colab-badge.svg\" alt=\"Open In Colab\"/></a>"
      ]
    },
    {
      "cell_type": "markdown",
      "metadata": {
        "id": "4JDqSCM6XWR0"
      },
      "source": [
        "可以隨意輸入數字，來切割鐵條，並求出那最有價值的切割組合\r\n",
        "\r\n"
      ]
    },
    {
      "cell_type": "code",
      "metadata": {
        "colab": {
          "base_uri": "https://localhost:8080/"
        },
        "id": "LQQLG831XTrN",
        "outputId": "176c12eb-be7e-4a06-f7d5-499122b1139b"
      },
      "source": [
        "import sys\r\n",
        "\r\n",
        "def max(a, b): \r\n",
        "    return a if (a > b) else b \r\n",
        "      \r\n",
        "# Returns the best obtainable price for a rod of length n  \r\n",
        "# and price[] as prices of different pieces \r\n",
        "def cutRod(price, n): \r\n",
        "    if(n <= 0): \r\n",
        "        return 0\r\n",
        "    max_val = -sys.maxsize-1\r\n",
        "      \r\n",
        "    # Recursively cut the rod in different pieces   \r\n",
        "    # and compare different configurations \r\n",
        "    for i in range(0, n): \r\n",
        "        max_val = max(max_val, price[i] + \r\n",
        "                      cutRod(price, n - i - 1)) \r\n",
        "    return max_val \r\n",
        "  \r\n",
        "# Driver code \r\n",
        "arr = [1, 5, 8, 9, 10, 17, 17, 20] \r\n",
        "size = len(arr) \r\n",
        "print(\"Maximum Obtainable Value is\", cutRod(arr, size)) "
      ],
      "execution_count": 2,
      "outputs": [
        {
          "output_type": "stream",
          "text": [
            "Maximum Obtainable Value is 22\n"
          ],
          "name": "stdout"
        }
      ]
    }
  ]
}