{
  "nbformat": 4,
  "nbformat_minor": 0,
  "metadata": {
    "colab": {
      "name": "Untitled3.ipynb",
      "provenance": [],
      "collapsed_sections": [],
      "include_colab_link": true
    },
    "kernelspec": {
      "name": "python3",
      "display_name": "Python 3"
    }
  },
  "cells": [
    {
      "cell_type": "markdown",
      "metadata": {
        "id": "view-in-github",
        "colab_type": "text"
      },
      "source": [
        "<a href=\"https://colab.research.google.com/github/Qulick-k/algoruthen_test/blob/master/HashingSearch.ipynb\" target=\"_parent\"><img src=\"https://colab.research.google.com/assets/colab-badge.svg\" alt=\"Open In Colab\"/></a>"
      ]
    },
    {
      "cell_type": "markdown",
      "metadata": {
        "id": "KgQSjLXGEHqW"
      },
      "source": [
        "雜湊演算法-線性探測法"
      ]
    },
    {
      "cell_type": "code",
      "metadata": {
        "id": "Xx0yL21W5UOv",
        "outputId": "da552aba-68c4-4c74-ca2c-54c7bc13ff56",
        "colab": {
          "base_uri": "https://localhost:8080/",
          "height": 221
        }
      },
      "source": [
        "\n",
        "import random\n",
        "\n",
        "INDEXBOX=10  #雜湊表最大元素\n",
        "MAXNUM=7   #最大資料個數\n",
        "\n",
        "def print_data(data,max_number):  #列印陣列副程式\n",
        "  print('\\t',end='')\n",
        "  for i in range(max_number):\n",
        "    print('[%2d]'%data[i],end='')\n",
        "  print()\n",
        "\n",
        "def create_table(num,index): #建立雜湊表副程式\n",
        "  tmp=num%INDEXBOX      #雜函數=湊資料%INDEXBOX\n",
        "  while True:\n",
        "    if index[tmp]==-1:   #如果資料對應的位置是空的\n",
        "      index[tmp]=num   #則直接存入資料\n",
        "      break\n",
        "    else:\n",
        "      tmp=(tmp+1)%INDEXBOX #否則往後找位置存取\n",
        "\n",
        "#Main\n",
        "index=[None]*INDEXBOX\n",
        "data=[None]*MAXNUM\n",
        "\n",
        "print('原始陣列值: ')\n",
        "for i in range(MAXNUM): #起始資料值\n",
        "  data[i]=random.randint(1,20)\n",
        "for i in range(INDEXBOX): #清除雜湊表\n",
        "  index[i]=-1\n",
        "print_data(data,MAXNUM)  #列印起始資料\n",
        "\n",
        "print('雜湊表內容: ')\n",
        "for i in range(MAXNUM):     #建立雜湊表\n",
        "  create_table(data[i],index)\n",
        "  print('  %2d =>' %data[i],end='' ) #列印單一元素的雜湊表位置\n",
        "  print_data(index,INDEXBOX)\n",
        "\n",
        "print('完成雜湊表: ')\n",
        "print_data(index,INDEXBOX) #列印最後完成結果"
      ],
      "execution_count": 2,
      "outputs": [
        {
          "output_type": "stream",
          "text": [
            "原始陣列值: \n",
            "\t[10][19][ 2][20][20][ 6][ 8]\n",
            "雜湊表內容: \n",
            "  10 =>\t[10][-1][-1][-1][-1][-1][-1][-1][-1][-1]\n",
            "  19 =>\t[10][-1][-1][-1][-1][-1][-1][-1][-1][19]\n",
            "   2 =>\t[10][-1][ 2][-1][-1][-1][-1][-1][-1][19]\n",
            "  20 =>\t[10][20][ 2][-1][-1][-1][-1][-1][-1][19]\n",
            "  20 =>\t[10][20][ 2][20][-1][-1][-1][-1][-1][19]\n",
            "   6 =>\t[10][20][ 2][20][-1][-1][ 6][-1][-1][19]\n",
            "   8 =>\t[10][20][ 2][20][-1][-1][ 6][-1][ 8][19]\n",
            "完成雜湊表: \n",
            "\t[10][20][ 2][20][-1][-1][ 6][-1][ 8][19]\n"
          ],
          "name": "stdout"
        }
      ]
    },
    {
      "cell_type": "markdown",
      "metadata": {
        "id": "djr4h2y2EFaD"
      },
      "source": [
        "平方探測法"
      ]
    },
    {
      "cell_type": "code",
      "metadata": {
        "id": "3sseY1PNFCKu",
        "outputId": "9197e1b5-c933-468d-a1b5-4573c974ac16",
        "colab": {
          "base_uri": "https://localhost:8080/",
          "height": 221
        }
      },
      "source": [
        "import random\n",
        "\n",
        "INDEXBOX=10  #雜湊表最大元素\n",
        "MAXNUM=7   #最大資料個數\n",
        "\n",
        "def print_data(data,max_number):  #列印陣列副程式\n",
        "  print('\\t',end='')\n",
        "  for i in range(max_number):\n",
        "    print('[%2d]'%data[i],end='')\n",
        "  print()\n",
        "\n",
        "def create_table(num,index): #建立雜湊表副程式\n",
        "  tmp=num%INDEXBOX      #雜湊函數=資料%INDEXBOX\n",
        "  while True:\n",
        "    if index[tmp]==-1:   #如果資料對應的位置是空的\n",
        "      index[tmp]=num   #則直接存入資料\n",
        "      break\n",
        "    else:            #如果資料對應的位置是被占據的\n",
        "      \n",
        "      a=1\n",
        "      b=tmp\n",
        "      c=0\n",
        "      while c==0:          \n",
        "        tmp=(b+(a**2))%INDEXBOX\n",
        "        if index[tmp] ==-1:       \n",
        "          index[tmp] =num  \n",
        "          break\n",
        "        else:\n",
        "          a = a + 1 \n",
        "      break\n",
        "          \n",
        "\n",
        "#Main\n",
        "index=[None]*INDEXBOX\n",
        "data=[None]*MAXNUM\n",
        "\n",
        "print('原始陣列值: ')\n",
        "for i in range(MAXNUM): #起始資料值\n",
        "  data[i]=random.randint(1,20)\n",
        "for i in range(INDEXBOX): #清除雜湊表\n",
        "  index[i]=-1\n",
        "print_data(data,MAXNUM)  #列印起始資料\n",
        "\n",
        "print('雜湊表內容: ')\n",
        "for i in range(MAXNUM):     #建立雜湊表\n",
        "  create_table(data[i],index)\n",
        "  print('  %2d =>' %data[i],end='' ) #列印單一元素的雜湊表位置\n",
        "  print_data(index,INDEXBOX)\n",
        "\n",
        "print('完成雜湊表: ')\n",
        "print_data(index,INDEXBOX) #列印最後完成結果"
      ],
      "execution_count": 29,
      "outputs": [
        {
          "output_type": "stream",
          "text": [
            "原始陣列值: \n",
            "\t[ 5][ 6][ 4][13][13][ 5][ 2]\n",
            "雜湊表內容: \n",
            "   5 =>\t[-1][-1][-1][-1][-1][ 5][-1][-1][-1][-1]\n",
            "   6 =>\t[-1][-1][-1][-1][-1][ 5][ 6][-1][-1][-1]\n",
            "   4 =>\t[-1][-1][-1][-1][ 4][ 5][ 6][-1][-1][-1]\n",
            "  13 =>\t[-1][-1][-1][13][ 4][ 5][ 6][-1][-1][-1]\n",
            "  13 =>\t[-1][-1][-1][13][ 4][ 5][ 6][13][-1][-1]\n",
            "   5 =>\t[-1][-1][-1][13][ 4][ 5][ 6][13][-1][ 5]\n",
            "   2 =>\t[-1][-1][ 2][13][ 4][ 5][ 6][13][-1][ 5]\n",
            "完成雜湊表: \n",
            "\t[-1][-1][ 2][13][ 4][ 5][ 6][13][-1][ 5]\n"
          ],
          "name": "stdout"
        }
      ]
    },
    {
      "cell_type": "markdown",
      "metadata": {
        "id": "bwdgQS3YDk34"
      },
      "source": [
        "\n",
        "再雜湊法\n",
        "\n",
        "```\n",
        "\n"
      ]
    },
    {
      "cell_type": "code",
      "metadata": {
        "id": "QjMsjwd5DhWG",
        "outputId": "996d7071-c8c6-42df-82e4-bce5e21b1936",
        "colab": {
          "base_uri": "https://localhost:8080/",
          "height": 221
        }
      },
      "source": [
        "\n",
        "import random\n",
        "\n",
        "INDEXBOX=10  #雜湊表最大元素\n",
        "MAXNUM=7   #最大資料個數\n",
        "\n",
        "def print_data(data,max_number):  #列印陣列副程式\n",
        "  print('\\t',end='')\n",
        "  for i in range(max_number):\n",
        "    print('[%2d]'%data[i],end='')\n",
        "  print()\n",
        "\n",
        "def create_table(num,index): #建立雜湊表副程式\n",
        "  tmp=num%INDEXBOX      #雜函數=湊資料%INDEXBOX\n",
        "  while True:\n",
        "    if index[tmp]==-1:   #如果資料對應的位置是空的\n",
        "      index[tmp]=num   #則直接存入資料\n",
        "      break\n",
        "    else:\n",
        "      a=2\n",
        "      b=num\n",
        "      c=0\n",
        "      while c==0:          \n",
        "        tmp=(b+a)%INDEXBOX\n",
        "        if index[tmp] ==-1:       \n",
        "          index[tmp] =num  \n",
        "          break\n",
        "        else:\n",
        "          a = a + 2 \n",
        "      break\n",
        "\n",
        "#Main\n",
        "index=[None]*INDEXBOX\n",
        "data=[None]*MAXNUM\n",
        "\n",
        "print('原始陣列值: ')\n",
        "for i in range(MAXNUM): #起始資料值\n",
        "  data[i]=random.randint(1,20)\n",
        "for i in range(INDEXBOX): #清除雜湊表\n",
        "  index[i]=-1\n",
        "print_data(data,MAXNUM)  #列印起始資料\n",
        "\n",
        "print('雜湊表內容: ')\n",
        "for i in range(MAXNUM):     #建立雜湊表\n",
        "  create_table(data[i],index)\n",
        "  print('  %2d =>' %data[i],end='' ) #列印單一元素的雜湊表位置\n",
        "  print_data(index,INDEXBOX)\n",
        "\n",
        "print('完成雜湊表: ')\n",
        "print_data(index,INDEXBOX) #列印最後完成結果"
      ],
      "execution_count": 33,
      "outputs": [
        {
          "output_type": "stream",
          "text": [
            "原始陣列值: \n",
            "\t[11][17][17][ 7][13][10][ 2]\n",
            "雜湊表內容: \n",
            "  11 =>\t[-1][11][-1][-1][-1][-1][-1][-1][-1][-1]\n",
            "  17 =>\t[-1][11][-1][-1][-1][-1][-1][17][-1][-1]\n",
            "  17 =>\t[-1][11][-1][-1][-1][-1][-1][17][-1][17]\n",
            "   7 =>\t[-1][11][-1][ 7][-1][-1][-1][17][-1][17]\n",
            "  13 =>\t[-1][11][-1][ 7][-1][13][-1][17][-1][17]\n",
            "  10 =>\t[10][11][-1][ 7][-1][13][-1][17][-1][17]\n",
            "   2 =>\t[10][11][ 2][ 7][-1][13][-1][17][-1][17]\n",
            "完成雜湊表: \n",
            "\t[10][11][ 2][ 7][-1][13][-1][17][-1][17]\n"
          ],
          "name": "stdout"
        }
      ]
    },
    {
      "cell_type": "markdown",
      "metadata": {
        "id": "P2oKi7H3DiUD"
      },
      "source": [
        ""
      ]
    }
  ]
}