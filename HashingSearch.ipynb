{
  "nbformat": 4,
  "nbformat_minor": 0,
  "metadata": {
    "colab": {
      "name": "Untitled3.ipynb",
      "provenance": [],
      "collapsed_sections": [],
      "authorship_tag": "ABX9TyMu3XitTXrIbOb3H7Ka6Vp3",
      "include_colab_link": true
    },
    "kernelspec": {
      "name": "python3",
      "display_name": "Python 3"
    }
  },
  "cells": [
    {
      "cell_type": "markdown",
      "metadata": {
        "id": "view-in-github",
        "colab_type": "text"
      },
      "source": [
        "<a href=\"https://colab.research.google.com/github/Qulick-k/algoruthen_test/blob/master/HashingSearch.ipynb\" target=\"_parent\"><img src=\"https://colab.research.google.com/assets/colab-badge.svg\" alt=\"Open In Colab\"/></a>"
      ]
    },
    {
      "cell_type": "markdown",
      "metadata": {
        "id": "KgQSjLXGEHqW"
      },
      "source": [
        "雜湊演算法-線性探測法"
      ]
    },
    {
      "cell_type": "code",
      "metadata": {
        "id": "Xx0yL21W5UOv",
        "outputId": "dec0b5d1-a7c8-4fc1-8352-68f2685de258",
        "colab": {
          "base_uri": "https://localhost:8080/",
          "height": 221
        }
      },
      "source": [
        "\n",
        "import random\n",
        "\n",
        "INDEXBOX=10  #雜湊表最大元素\n",
        "MAXNUM=7   #最大資料個數\n",
        "\n",
        "def print_data(data,max_number):  #列印陣列副程式\n",
        "  print('\\t',end='')\n",
        "  for i in range(max_number):\n",
        "    print('[%2d]'%data[i],end='')\n",
        "  print()\n",
        "\n",
        "def create_table(num,index): #建立雜湊表副程式\n",
        "  tmp=num%INDEXBOX      #雜函數=湊資料%INDEXBOX\n",
        "  while True:\n",
        "    if index[tmp]==-1:   #如果資料對應的位置是空的\n",
        "      index[tmp]=num   #則直接存入資料\n",
        "      break\n",
        "    else:\n",
        "      tmp=(tmp+1)%INDEXBOX #否則往後找位置存取\n",
        "\n",
        "#Main\n",
        "index=[None]*INDEXBOX\n",
        "data=[None]*MAXNUM\n",
        "\n",
        "print('原始陣列值: ')\n",
        "for i in range(MAXNUM): #起始資料值\n",
        "  data[i]=random.randint(1,20)\n",
        "for i in range(INDEXBOX): #清除雜湊表\n",
        "  index[i]=-1\n",
        "print_data(data,MAXNUM)  #列印起始資料\n",
        "\n",
        "print('雜湊表內容: ')\n",
        "for i in range(MAXNUM):     #建立雜湊表\n",
        "  create_table(data[i],index)\n",
        "  print('  %2d =>' %data[i],end='' ) #列印單一元素的雜湊表位置\n",
        "  print_data(index,INDEXBOX)\n",
        "\n",
        "print('完成雜湊表: ')\n",
        "print_data(index,INDEXBOX) #列印最後完成結果"
      ],
      "execution_count": 3,
      "outputs": [
        {
          "output_type": "stream",
          "text": [
            "原始陣列值: \n",
            "\t[19][ 2][ 3][19][ 3][15][16]\n",
            "雜湊表內容: \n",
            "  19 =>\t[-1][-1][-1][-1][-1][-1][-1][-1][-1][19]\n",
            "   2 =>\t[-1][-1][ 2][-1][-1][-1][-1][-1][-1][19]\n",
            "   3 =>\t[-1][-1][ 2][ 3][-1][-1][-1][-1][-1][19]\n",
            "  19 =>\t[19][-1][ 2][ 3][-1][-1][-1][-1][-1][19]\n",
            "   3 =>\t[19][-1][ 2][ 3][ 3][-1][-1][-1][-1][19]\n",
            "  15 =>\t[19][-1][ 2][ 3][ 3][15][-1][-1][-1][19]\n",
            "  16 =>\t[19][-1][ 2][ 3][ 3][15][16][-1][-1][19]\n",
            "完成雜湊表: \n",
            "\t[19][-1][ 2][ 3][ 3][15][16][-1][-1][19]\n"
          ],
          "name": "stdout"
        }
      ]
    },
    {
      "cell_type": "markdown",
      "metadata": {
        "id": "djr4h2y2EFaD"
      },
      "source": [
        "平方探測法"
      ]
    },
    {
      "cell_type": "code",
      "metadata": {
        "id": "3sseY1PNFCKu",
        "outputId": "694e1f02-8b0f-4e77-f9d8-dba3f5b7d148",
        "colab": {
          "base_uri": "https://localhost:8080/",
          "height": 238
        }
      },
      "source": [
        "import random\n",
        "\n",
        "INDEXBOX=10  #雜湊表最大元素\n",
        "MAXNUM=7   #最大資料個數\n",
        "\n",
        "def print_data(data,max_number):  #列印陣列副程式\n",
        "  print('\\t',end='')\n",
        "  for i in range(max_number):\n",
        "    print('[%2d]'%data[i],end='')\n",
        "  print()\n",
        "\n",
        "def create_table(num,index): #建立雜湊表副程式\n",
        "  tmp=num%INDEXBOX      #雜湊函數=資料%INDEXBOX\n",
        "  while True:\n",
        "    if index[tmp]==-1:   #如果資料對應的位置是空的\n",
        "      index[tmp]=num   #則直接存入資料\n",
        "      break\n",
        "    else:\n",
        "      b=10\n",
        "      for a in range(1,11):  \n",
        "        print(tmp)\n",
        "        tmp=(tmp+a**2)% b\n",
        "        if index[tmp]==-1:\n",
        "          index[tmp]=num\n",
        "          break\n",
        "        else:\n",
        "          return        \n",
        "      #tmp=(tmp+((7-1//2)**2)%7 #否則使用平方探測\n",
        "                   #第一次溢位就換第二次\n",
        "\n",
        "#Main\n",
        "index=[None]*INDEXBOX\n",
        "data=[None]*MAXNUM\n",
        "\n",
        "print('原始陣列值: ')\n",
        "for i in range(MAXNUM): #起始資料值\n",
        "  data[i]=random.randint(1,20)\n",
        "for i in range(INDEXBOX): #清除雜湊表\n",
        "  index[i]=-1\n",
        "print_data(data,MAXNUM)  #列印起始資料\n",
        "\n",
        "print('雜湊表內容: ')\n",
        "for i in range(MAXNUM):     #建立雜湊表\n",
        "  create_table(data[i],index)\n",
        "  print('  %2d =>' %data[i],end='' ) #列印單一元素的雜湊表位置\n",
        "  print_data(index,INDEXBOX)\n",
        "\n",
        "print('完成雜湊表: ')\n",
        "print_data(index,INDEXBOX) #列印最後完成結果"
      ],
      "execution_count": 13,
      "outputs": [
        {
          "output_type": "stream",
          "text": [
            "原始陣列值: \n",
            "\t[ 4][18][ 5][10][ 2][11][10]\n",
            "雜湊表內容: \n",
            "   4 =>\t[-1][-1][-1][-1][ 4][-1][-1][-1][-1][-1]\n",
            "  18 =>\t[-1][-1][-1][-1][ 4][-1][-1][-1][18][-1]\n",
            "   5 =>\t[-1][-1][-1][-1][ 4][ 5][-1][-1][18][-1]\n",
            "  10 =>\t[10][-1][-1][-1][ 4][ 5][-1][-1][18][-1]\n",
            "   2 =>\t[10][-1][ 2][-1][ 4][ 5][-1][-1][18][-1]\n",
            "  11 =>\t[10][11][ 2][-1][ 4][ 5][-1][-1][18][-1]\n",
            "0\n",
            "  10 =>\t[10][11][ 2][-1][ 4][ 5][-1][-1][18][-1]\n",
            "完成雜湊表: \n",
            "\t[10][11][ 2][-1][ 4][ 5][-1][-1][18][-1]\n"
          ],
          "name": "stdout"
        }
      ]
    }
  ]
}