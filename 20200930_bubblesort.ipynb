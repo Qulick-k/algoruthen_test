{
  "nbformat": 4,
  "nbformat_minor": 0,
  "metadata": {
    "colab": {
      "name": "bubblesort.ipynb",
      "provenance": [],
      "include_colab_link": true
    },
    "kernelspec": {
      "name": "python3",
      "display_name": "Python 3"
    }
  },
  "cells": [
    {
      "cell_type": "markdown",
      "metadata": {
        "id": "view-in-github",
        "colab_type": "text"
      },
      "source": [
        "<a href=\"https://colab.research.google.com/github/Qulick-k/algoruthen_test/blob/master/20200930_bubblesort.ipynb\" target=\"_parent\"><img src=\"https://colab.research.google.com/assets/colab-badge.svg\" alt=\"Open In Colab\"/></a>"
      ]
    },
    {
      "cell_type": "markdown",
      "metadata": {
        "id": "32sgU0StMiof"
      },
      "source": [
        "Bubble sort (氣泡排序)"
      ]
    },
    {
      "cell_type": "code",
      "metadata": {
        "id": "esB_4fSeMLYJ",
        "outputId": "935e7608-026b-4842-bb1f-0e1362bdbf30",
        "colab": {
          "base_uri": "https://localhost:8080/",
          "height": 52
        }
      },
      "source": [
        "def Bubble_Sort(datas):\n",
        "    \n",
        "    for i in range(1, len(datas)):              #\n",
        "        for j in range(len(datas)-i):   # \n",
        "            if datas[j] > datas[j+1]:   # \n",
        "                datas[j], datas[j+1] = datas[j+1], datas[j]  \n",
        "    return datas\n",
        "\n",
        "  \n",
        "\n",
        "#if __name__ == '__main__':\n",
        "    #import random\n",
        "    #random.shuffle(a)\n",
        "    #print(a)\n",
        "    \n",
        "\n",
        "\n",
        "a = list(input(\"請輸入6個數字\").split(\" \")) #把range換成input，並且用split來空出可輸入的數值\n",
        "\n",
        "a = Bubble_Sort(a)\n",
        "    \n",
        "print(a)"
      ],
      "execution_count": 32,
      "outputs": [
        {
          "output_type": "stream",
          "text": [
            "請輸入6個數字5 9 8 7 6 2\n",
            "['2', '5', '6', '7', '8', '9']\n"
          ],
          "name": "stdout"
        }
      ]
    },
    {
      "cell_type": "markdown",
      "metadata": {
        "id": "MOQ_aZKnM-wL"
      },
      "source": [
        "請加入註解，並將程式修改為加入六個數做氣泡排序\n"
      ]
    }
  ]
}