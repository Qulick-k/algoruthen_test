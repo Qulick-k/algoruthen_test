{
  "nbformat": 4,
  "nbformat_minor": 0,
  "metadata": {
    "colab": {
      "name": "bubblesort.ipynb",
      "provenance": [],
      "include_colab_link": true
    },
    "kernelspec": {
      "name": "python3",
      "display_name": "Python 3"
    }
  },
  "cells": [
    {
      "cell_type": "markdown",
      "metadata": {
        "id": "view-in-github",
        "colab_type": "text"
      },
      "source": [
        "<a href=\"https://colab.research.google.com/github/Qulick-k/algoruthen_test/blob/master/20200930_bubblesort.ipynb\" target=\"_parent\"><img src=\"https://colab.research.google.com/assets/colab-badge.svg\" alt=\"Open In Colab\"/></a>"
      ]
    },
    {
      "cell_type": "markdown",
      "metadata": {
        "id": "32sgU0StMiof"
      },
      "source": [
        "Bubble sort (氣泡排序)"
      ]
    },
    {
      "cell_type": "code",
      "metadata": {
        "id": "esB_4fSeMLYJ",
        "outputId": "16af5e49-2bac-4a4b-d25e-0f187e9d2dd3",
        "colab": {
          "base_uri": "https://localhost:8080/",
          "height": 510
        }
      },
      "source": [
        "def Bubble_Sort(datas):\n",
        "    \n",
        "    for i in range(1, len(datas)):              \n",
        "        for j in range(len(datas)-i):                        \n",
        "            if datas[j] >= datas[j+1]:          \n",
        "                print(datas[j],\"a\",\"i=\",i)\n",
        "                datas[j], datas[j+1] = datas[j+1], datas[j]  \n",
        "                print(datas[j],\"b\",\"j=\",j)\n",
        "    return datas\n",
        "\n",
        "  \n",
        "\n",
        "#if __name__ == '__main__':\n",
        "    #import random\n",
        "    #random.shuffle(a)\n",
        "    #print(a)\n",
        "    \n",
        "\n",
        "arr = []\n",
        "for i in range(6):\n",
        "   a = int(input(\"請輸入6個數字\")) #原本是用list(input())來做，結果一直跑出來10 100 30 300 50 500\n",
        "   arr.append(a)           #後來換成int(input())來做，就好了幹我在那裡看半天\n",
        "\n",
        "b = Bubble_Sort(arr)\n",
        "    \n",
        "print(b)"
      ],
      "execution_count": 22,
      "outputs": [
        {
          "output_type": "stream",
          "text": [
            "請輸入6個數字100\n",
            "請輸入6個數字500\n",
            "請輸入6個數字300\n",
            "請輸入6個數字10\n",
            "請輸入6個數字50\n",
            "請輸入6個數字30\n",
            "500 a i= 1\n",
            "300 b j= 1\n",
            "500 a i= 1\n",
            "10 b j= 2\n",
            "500 a i= 1\n",
            "50 b j= 3\n",
            "500 a i= 1\n",
            "30 b j= 4\n",
            "300 a i= 2\n",
            "10 b j= 1\n",
            "300 a i= 2\n",
            "50 b j= 2\n",
            "300 a i= 2\n",
            "30 b j= 3\n",
            "100 a i= 3\n",
            "10 b j= 0\n",
            "100 a i= 3\n",
            "50 b j= 1\n",
            "100 a i= 3\n",
            "30 b j= 2\n",
            "50 a i= 4\n",
            "30 b j= 1\n",
            "[10, 30, 50, 100, 300, 500]\n"
          ],
          "name": "stdout"
        }
      ]
    },
    {
      "cell_type": "markdown",
      "metadata": {
        "id": "MOQ_aZKnM-wL"
      },
      "source": [
        "請加入註解，並將程式修改為加入六個數做氣泡排序\n"
      ]
    }
  ]
}