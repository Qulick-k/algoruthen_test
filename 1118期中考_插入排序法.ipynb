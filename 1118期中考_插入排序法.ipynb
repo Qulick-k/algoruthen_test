{
  "nbformat": 4,
  "nbformat_minor": 0,
  "metadata": {
    "colab": {
      "name": "insertionsort.ipynb",
      "provenance": [],
      "collapsed_sections": [],
      "include_colab_link": true
    },
    "kernelspec": {
      "name": "python3",
      "display_name": "Python 3"
    }
  },
  "cells": [
    {
      "cell_type": "markdown",
      "metadata": {
        "id": "view-in-github",
        "colab_type": "text"
      },
      "source": [
        "<a href=\"https://colab.research.google.com/github/Qulick-k/algoruthen_test/blob/master/1118%E6%9C%9F%E4%B8%AD%E8%80%83_%E6%8F%92%E5%85%A5%E6%8E%92%E5%BA%8F%E6%B3%95.ipynb\" target=\"_parent\"><img src=\"https://colab.research.google.com/assets/colab-badge.svg\" alt=\"Open In Colab\"/></a>"
      ]
    },
    {
      "cell_type": "markdown",
      "metadata": {
        "id": "j95w6SLwOC0z"
      },
      "source": [
        "Insertion sort (插入排序)"
      ]
    },
    {
      "cell_type": "code",
      "metadata": {
        "id": "BxBaYEwzNj_v",
        "colab": {
          "base_uri": "https://localhost:8080/"
        },
        "outputId": "37504e3e-1f70-4e8b-f839-1d612b684d4e"
      },
      "source": [
        "def insertionSort(arr):\n",
        "    for i in range(len(arr)):                            \n",
        "        preIndex = i-1                      # 先設一個變數，用來看目前陣列第i-1的編碼\n",
        "        current = arr[i]                     # 再設一個變數，來放陣列的第i數值\n",
        "        while preIndex >= 0 and arr[preIndex] > current:   # 當i的前一個編碼\"大於\"0，而且陣列的第i-1個數值\"大於\"陣列的第i個數值，就進迴圈\n",
        "            arr[preIndex+1] = arr[preIndex]         #進迴圈後，陣列的第i-1個數值，放進陣列裡的preIndex+1位址裡\n",
        "            preIndex-=1                    #preIndex-1，再重複上面程序，直到preIndex<0,跳出迴圈            \n",
        "        arr[preIndex+1] = current                #把比陣列第i-1數值\"小的\"數值，插入到適合的位址   [14,26,3] >> [3,14,26]   26替補到陣列第2個位址，在while迴圈14替補到陣列第1個位址，而在最後把最小的3插入到陣列第0個位址\n",
        "        print(\"第\",i+1,\"次排序:\",arr)\n",
        "    return arr                           \n",
        "\n",
        "\n",
        "maxnum = 8\n",
        "lists = [None]*maxnum\n",
        "if __name__ == '__main__':\n",
        "    import random\n",
        "    for i in range(maxnum):\n",
        "      lists[i] = random.randint(1,30)\n",
        "    print(\"輸出結果:\",\"\\n原始數列:\",lists)\n",
        "    lists = insertionSort(lists)\n",
        "    print(\"完成:\",lists)\n",
        "     \n",
        "   "
      ],
      "execution_count": 8,
      "outputs": [
        {
          "output_type": "stream",
          "text": [
            "輸出結果: \n",
            "原始數列: [10, 16, 6, 4, 9, 14, 16, 23]\n",
            "第 1 次排序: [10, 16, 6, 4, 9, 14, 16, 23]\n",
            "第 2 次排序: [10, 16, 6, 4, 9, 14, 16, 23]\n",
            "第 3 次排序: [6, 10, 16, 4, 9, 14, 16, 23]\n",
            "第 4 次排序: [4, 6, 10, 16, 9, 14, 16, 23]\n",
            "第 5 次排序: [4, 6, 9, 10, 16, 14, 16, 23]\n",
            "第 6 次排序: [4, 6, 9, 10, 14, 16, 16, 23]\n",
            "第 7 次排序: [4, 6, 9, 10, 14, 16, 16, 23]\n",
            "第 8 次排序: [4, 6, 9, 10, 14, 16, 16, 23]\n",
            "完成: [4, 6, 9, 10, 14, 16, 16, 23]\n"
          ],
          "name": "stdout"
        }
      ]
    },
    {
      "cell_type": "markdown",
      "metadata": {
        "id": "96VUhWJAuWjS"
      },
      "source": [
        ""
      ]
    }
  ]
}