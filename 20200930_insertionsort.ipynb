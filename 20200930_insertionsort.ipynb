{
  "nbformat": 4,
  "nbformat_minor": 0,
  "metadata": {
    "colab": {
      "name": "insertionsort.ipynb",
      "provenance": [],
      "collapsed_sections": [],
      "include_colab_link": true
    },
    "kernelspec": {
      "name": "python3",
      "display_name": "Python 3"
    }
  },
  "cells": [
    {
      "cell_type": "markdown",
      "metadata": {
        "id": "view-in-github",
        "colab_type": "text"
      },
      "source": [
        "<a href=\"https://colab.research.google.com/github/Qulick-k/algoruthen_test/blob/master/20200930_insertionsort.ipynb\" target=\"_parent\"><img src=\"https://colab.research.google.com/assets/colab-badge.svg\" alt=\"Open In Colab\"/></a>"
      ]
    },
    {
      "cell_type": "markdown",
      "metadata": {
        "id": "j95w6SLwOC0z"
      },
      "source": [
        "Insertion sort (插入排序)"
      ]
    },
    {
      "cell_type": "code",
      "metadata": {
        "id": "BxBaYEwzNj_v",
        "outputId": "752e210b-0dcc-497d-aaa1-892ac0259a54",
        "colab": {
          "base_uri": "https://localhost:8080/",
          "height": 289
        }
      },
      "source": [
        "\n",
        "def Insertion_Sort(datas):\n",
        "    for i in range(1, len(datas)):                 # n\n",
        "        for j in range(i):                    # n * n\n",
        "            current = datas[i]                # n\n",
        "            if current < datas[j]:\n",
        "                for k in range(i,j):           # j - i \n",
        "                  print(datas)              # j - i \n",
        "    return datas                            # 1 \n",
        "\n",
        "\n",
        "def insertionSort(arr):\n",
        "    for i in range(len(arr)):                    # n\n",
        "        preIndex = i-1                      # n\n",
        "        current = arr[i]                     # n\n",
        "        while preIndex >= 0 and arr[preIndex] > current:   # 檢測 n 次 \n",
        "            arr[preIndex+1] = arr[preIndex]\n",
        "            preIndex-=1\n",
        "        arr[preIndex+1] = current\n",
        "        print(arr)\n",
        "    return arr                            # 1\n",
        "\n",
        "if __name__ == '__main__':\n",
        "    import random\n",
        "    a = list(range(1,16))\n",
        "    random.shuffle(a)\n",
        "    b = a.copy()\n",
        "\n",
        "    arr = insertionSort(a)\n",
        "    print('---'*10)\n",
        "    Insertion_Sort(b)\n",
        "\n"
      ],
      "execution_count": null,
      "outputs": [
        {
          "output_type": "stream",
          "text": [
            "[14, 3, 10, 12, 8, 13, 2, 9, 11, 7, 1, 5, 6, 15, 4]\n",
            "[3, 14, 10, 12, 8, 13, 2, 9, 11, 7, 1, 5, 6, 15, 4]\n",
            "[3, 10, 14, 12, 8, 13, 2, 9, 11, 7, 1, 5, 6, 15, 4]\n",
            "[3, 10, 12, 14, 8, 13, 2, 9, 11, 7, 1, 5, 6, 15, 4]\n",
            "[3, 8, 10, 12, 14, 13, 2, 9, 11, 7, 1, 5, 6, 15, 4]\n",
            "[3, 8, 10, 12, 13, 14, 2, 9, 11, 7, 1, 5, 6, 15, 4]\n",
            "[2, 3, 8, 10, 12, 13, 14, 9, 11, 7, 1, 5, 6, 15, 4]\n",
            "[2, 3, 8, 9, 10, 12, 13, 14, 11, 7, 1, 5, 6, 15, 4]\n",
            "[2, 3, 8, 9, 10, 11, 12, 13, 14, 7, 1, 5, 6, 15, 4]\n",
            "[2, 3, 7, 8, 9, 10, 11, 12, 13, 14, 1, 5, 6, 15, 4]\n",
            "[1, 2, 3, 7, 8, 9, 10, 11, 12, 13, 14, 5, 6, 15, 4]\n",
            "[1, 2, 3, 5, 7, 8, 9, 10, 11, 12, 13, 14, 6, 15, 4]\n",
            "[1, 2, 3, 5, 6, 7, 8, 9, 10, 11, 12, 13, 14, 15, 4]\n",
            "[1, 2, 3, 5, 6, 7, 8, 9, 10, 11, 12, 13, 14, 15, 4]\n",
            "[1, 2, 3, 4, 5, 6, 7, 8, 9, 10, 11, 12, 13, 14, 15]\n",
            "------------------------------\n"
          ],
          "name": "stdout"
        }
      ]
    },
    {
      "cell_type": "markdown",
      "metadata": {
        "id": "96VUhWJAuWjS"
      },
      "source": [
        "總共跑了n平方+6n+2(j-i)+2次\n"
      ]
    }
  ]
}