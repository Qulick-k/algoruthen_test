{
  "nbformat": 4,
  "nbformat_minor": 0,
  "metadata": {
    "colab": {
      "name": "Untitled1.ipynb",
      "provenance": [],
      "authorship_tag": "ABX9TyN54VIXW+sLcZgneF6aiW7E",
      "include_colab_link": true
    },
    "kernelspec": {
      "name": "python3",
      "display_name": "Python 3"
    }
  },
  "cells": [
    {
      "cell_type": "markdown",
      "metadata": {
        "id": "view-in-github",
        "colab_type": "text"
      },
      "source": [
        "<a href=\"https://colab.research.google.com/github/Qulick-k/algoruthen_test/blob/master/Sequential_Search.ipynb\" target=\"_parent\"><img src=\"https://colab.research.google.com/assets/colab-badge.svg\" alt=\"Open In Colab\"/></a>"
      ]
    },
    {
      "cell_type": "code",
      "metadata": {
        "id": "tuHumPFFxhuv",
        "outputId": "6cb76390-4049-4d29-fbdf-9d7398655d40",
        "colab": {
          "base_uri": "https://localhost:8080/",
          "height": 153
        }
      },
      "source": [
        "data = [20,31,50,17,16,36,19,8]\n",
        "\n",
        "def sequential_search(data,key):\n",
        "  length = len(data)\n",
        "  for i in range(length):\n",
        "    if data[i] == key:\n",
        "      print(\"催ㄉㄧㄜ阿吼\")\n",
        "      break\n",
        "    else: \n",
        "      print(\"謀啦幹\")\n",
        "    \n",
        "  \n",
        "      \n",
        "\n",
        "sequential_search(data,1)\n"
      ],
      "execution_count": 18,
      "outputs": [
        {
          "output_type": "stream",
          "text": [
            "謀啦幹\n",
            "謀啦幹\n",
            "謀啦幹\n",
            "謀啦幹\n",
            "謀啦幹\n",
            "謀啦幹\n",
            "謀啦幹\n",
            "謀啦幹\n"
          ],
          "name": "stdout"
        }
      ]
    }
  ]
}