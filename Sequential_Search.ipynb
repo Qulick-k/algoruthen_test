{
  "nbformat": 4,
  "nbformat_minor": 0,
  "metadata": {
    "colab": {
      "name": "Untitled1.ipynb",
      "provenance": [],
      "authorship_tag": "ABX9TyP7Yyz6vx1duokBQbi0y/H0",
      "include_colab_link": true
    },
    "kernelspec": {
      "name": "python3",
      "display_name": "Python 3"
    }
  },
  "cells": [
    {
      "cell_type": "markdown",
      "metadata": {
        "id": "view-in-github",
        "colab_type": "text"
      },
      "source": [
        "<a href=\"https://colab.research.google.com/github/Qulick-k/algoruthen_test/blob/master/Sequential_Search.ipynb\" target=\"_parent\"><img src=\"https://colab.research.google.com/assets/colab-badge.svg\" alt=\"Open In Colab\"/></a>"
      ]
    },
    {
      "cell_type": "code",
      "metadata": {
        "id": "tuHumPFFxhuv",
        "outputId": "69cfd1cb-48d1-4e4e-dd0a-48c8be356f7d",
        "colab": {
          "base_uri": "https://localhost:8080/",
          "height": 34
        }
      },
      "source": [
        "data = [20,31,50,17,16,36,19,8]\n",
        "\n",
        "def sequential_search(data,key):\n",
        "  length = len(data)         #設定範圍\n",
        "  for i in range(length):      #讓i在設定的範圍\n",
        "    if data[i] == key:       #當然在DATA內的第I位==KEY的時候\n",
        "      print(\"催ㄉㄧㄜ阿吼\")     #跑出結果並且BREAK\n",
        "      break\n",
        "\n",
        "    elif data[length-1] == data[i] : #設如果連最後一個數都不是KEY值的話\n",
        "      if data[i] != key:      #就PRINT出來\n",
        "        print(\"謀啦幹\")      \n",
        "  \n",
        "      \n",
        "\n",
        "sequential_search(data,18)\n"
      ],
      "execution_count": 27,
      "outputs": [
        {
          "output_type": "stream",
          "text": [
            "謀啦幹\n"
          ],
          "name": "stdout"
        }
      ]
    }
  ]
}