{
  "nbformat": 4,
  "nbformat_minor": 0,
  "metadata": {
    "colab": {
      "name": "Untitled0.ipynb",
      "provenance": [],
      "authorship_tag": "ABX9TyM+7wHaM/yzPfN2dtKblT0t",
      "include_colab_link": true
    },
    "kernelspec": {
      "name": "python3",
      "display_name": "Python 3"
    }
  },
  "cells": [
    {
      "cell_type": "markdown",
      "metadata": {
        "id": "view-in-github",
        "colab_type": "text"
      },
      "source": [
        "<a href=\"https://colab.research.google.com/github/Qulick-k/algoruthen_test/blob/master/SuperSexPassword.ipynb\" target=\"_parent\"><img src=\"https://colab.research.google.com/assets/colab-badge.svg\" alt=\"Open In Colab\"/></a>"
      ]
    },
    {
      "cell_type": "code",
      "metadata": {
        "id": "OLDi8h-eBVfC",
        "outputId": "6d6f4260-97c5-4ea7-9b4a-4936d4a0e4f8",
        "colab": {
          "base_uri": "https://localhost:8080/"
        }
      },
      "source": [
        "from random import  randint\n",
        "\n",
        "low = 1\n",
        "high = 100\n",
        "answer = randint(low, high)\n",
        "\n",
        "c=1\n",
        "while c<2:\n",
        "\n",
        "  asacoco = input(\"密碼介於\" + str(low) + '-' + str(high) + ':\\n>>')\n",
        "\n",
        "  asacocoo = int(asacoco)\n",
        "\n",
        "  if asacocoo <= low or asacocoo >= high :\n",
        "    print(\"超出範圍了啦幹\")\n",
        "    continue\n",
        "\n",
        "  if asacocoo == answer:\n",
        "    print(\"中了中了\")\n",
        "    break\n",
        "  elif asacocoo < answer:\n",
        "    low = asacocoo\n",
        "  elif asacocoo > answer:\n",
        "    high = asacocoo\n"
      ],
      "execution_count": null,
      "outputs": [
        {
          "output_type": "stream",
          "text": [
            "密碼介於1-100:\n",
            ">>67\n",
            "密碼介於67-100:\n",
            ">>234\n",
            "超出範圍了啦幹\n",
            "密碼介於67-100:\n",
            ">>23\n",
            "超出範圍了啦幹\n",
            "密碼介於67-100:\n",
            ">>69\n",
            "密碼介於69-100:\n",
            ">>90\n",
            "密碼介於69-90:\n",
            ">>77\n",
            "密碼介於69-77:\n",
            ">>74\n",
            "密碼介於69-74:\n",
            ">>70\n",
            "密碼介於70-74:\n",
            ">>73\n",
            "中了中了\n"
          ],
          "name": "stdout"
        }
      ]
    }
  ]
}